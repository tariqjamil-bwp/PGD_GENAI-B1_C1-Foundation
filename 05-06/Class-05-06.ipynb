{
 "cells": [
  {
   "cell_type": "markdown",
   "metadata": {
    "id": "dKn1v6Hnqdeb"
   },
   "source": [
    "## CLASS 5"
   ]
  },
  {
   "cell_type": "markdown",
   "metadata": {
    "id": "5IqjIsJfumtt"
   },
   "source": [
    "use of dir"
   ]
  },
  {
   "cell_type": "code",
   "execution_count": 217,
   "metadata": {
    "id": "CYNW2EPkujsO"
   },
   "outputs": [],
   "source": [
    "a = \"I love Pakistan\""
   ]
  },
  {
   "cell_type": "code",
   "execution_count": 218,
   "metadata": {},
   "outputs": [],
   "source": [
    "b = \"\""
   ]
  },
  {
   "cell_type": "code",
   "execution_count": 219,
   "metadata": {},
   "outputs": [],
   "source": [
    "a=a.lower()"
   ]
  },
  {
   "cell_type": "code",
   "execution_count": 220,
   "metadata": {},
   "outputs": [],
   "source": [
    "b = a.replace('Pakistan', 'my school')"
   ]
  },
  {
   "cell_type": "code",
   "execution_count": 221,
   "metadata": {},
   "outputs": [
    {
     "data": {
      "text/plain": [
       "'i love pakistan'"
      ]
     },
     "execution_count": 221,
     "metadata": {},
     "output_type": "execute_result"
    }
   ],
   "source": [
    "b"
   ]
  },
  {
   "cell_type": "code",
   "execution_count": 222,
   "metadata": {},
   "outputs": [
    {
     "data": {
      "text/plain": [
       "['i', 'love', 'pakistan']"
      ]
     },
     "execution_count": 222,
     "metadata": {},
     "output_type": "execute_result"
    }
   ],
   "source": [
    "b.split()"
   ]
  },
  {
   "cell_type": "code",
   "execution_count": 223,
   "metadata": {},
   "outputs": [],
   "source": [
    "c = 'My class is, in this room'"
   ]
  },
  {
   "cell_type": "code",
   "execution_count": 224,
   "metadata": {},
   "outputs": [
    {
     "data": {
      "text/plain": [
       "['My class ', ', in th', ' room']"
      ]
     },
     "execution_count": 224,
     "metadata": {},
     "output_type": "execute_result"
    }
   ],
   "source": [
    "c.split('is')"
   ]
  },
  {
   "cell_type": "code",
   "execution_count": 225,
   "metadata": {},
   "outputs": [
    {
     "data": {
      "text/plain": [
       "'xyz'"
      ]
     },
     "execution_count": 225,
     "metadata": {},
     "output_type": "execute_result"
    }
   ],
   "source": [
    "d = '    xyz   '\n",
    "d.strip()"
   ]
  },
  {
   "cell_type": "code",
   "execution_count": 226,
   "metadata": {},
   "outputs": [
    {
     "data": {
      "text/plain": [
       "['__add__',\n",
       " '__class__',\n",
       " '__contains__',\n",
       " '__delattr__',\n",
       " '__dir__',\n",
       " '__doc__',\n",
       " '__eq__',\n",
       " '__format__',\n",
       " '__ge__',\n",
       " '__getattribute__',\n",
       " '__getitem__',\n",
       " '__getnewargs__',\n",
       " '__gt__',\n",
       " '__hash__',\n",
       " '__init__',\n",
       " '__init_subclass__',\n",
       " '__iter__',\n",
       " '__le__',\n",
       " '__len__',\n",
       " '__lt__',\n",
       " '__mod__',\n",
       " '__mul__',\n",
       " '__ne__',\n",
       " '__new__',\n",
       " '__reduce__',\n",
       " '__reduce_ex__',\n",
       " '__repr__',\n",
       " '__rmod__',\n",
       " '__rmul__',\n",
       " '__setattr__',\n",
       " '__sizeof__',\n",
       " '__str__',\n",
       " '__subclasshook__',\n",
       " 'capitalize',\n",
       " 'casefold',\n",
       " 'center',\n",
       " 'count',\n",
       " 'encode',\n",
       " 'endswith',\n",
       " 'expandtabs',\n",
       " 'find',\n",
       " 'format',\n",
       " 'format_map',\n",
       " 'index',\n",
       " 'isalnum',\n",
       " 'isalpha',\n",
       " 'isascii',\n",
       " 'isdecimal',\n",
       " 'isdigit',\n",
       " 'isidentifier',\n",
       " 'islower',\n",
       " 'isnumeric',\n",
       " 'isprintable',\n",
       " 'isspace',\n",
       " 'istitle',\n",
       " 'isupper',\n",
       " 'join',\n",
       " 'ljust',\n",
       " 'lower',\n",
       " 'lstrip',\n",
       " 'maketrans',\n",
       " 'partition',\n",
       " 'removeprefix',\n",
       " 'removesuffix',\n",
       " 'replace',\n",
       " 'rfind',\n",
       " 'rindex',\n",
       " 'rjust',\n",
       " 'rpartition',\n",
       " 'rsplit',\n",
       " 'rstrip',\n",
       " 'split',\n",
       " 'splitlines',\n",
       " 'startswith',\n",
       " 'strip',\n",
       " 'swapcase',\n",
       " 'title',\n",
       " 'translate',\n",
       " 'upper',\n",
       " 'zfill']"
      ]
     },
     "execution_count": 226,
     "metadata": {},
     "output_type": "execute_result"
    }
   ],
   "source": [
    "dir(d)"
   ]
  },
  {
   "cell_type": "markdown",
   "metadata": {
    "id": "zerQLTHOqqrf"
   },
   "source": [
    "STRING METHODS\n",
    "\n",
    "upper, lower, replace, split, strip, str, concat, +"
   ]
  },
  {
   "cell_type": "code",
   "execution_count": 227,
   "metadata": {},
   "outputs": [
    {
     "name": "stdout",
     "output_type": "stream",
     "text": [
      "<class 'str'>\n"
     ]
    }
   ],
   "source": [
    "print(type(a))"
   ]
  },
  {
   "cell_type": "code",
   "execution_count": 228,
   "metadata": {},
   "outputs": [],
   "source": [
    "#help(str)"
   ]
  },
  {
   "cell_type": "code",
   "execution_count": 229,
   "metadata": {
    "colab": {
     "base_uri": "https://localhost:8080/",
     "height": 36
    },
    "executionInfo": {
     "elapsed": 14,
     "status": "ok",
     "timestamp": 1705734435222,
     "user": {
      "displayName": "TARIQ JAMIL",
      "userId": "15811585553781902842"
     },
     "user_tz": -300
    },
    "id": "ia1AVcrerWmP",
    "outputId": "1f063eca-b70b-42d6-914a-35b0bf2f5871"
   },
   "outputs": [
    {
     "data": {
      "text/plain": [
       "'i love pak'"
      ]
     },
     "execution_count": 229,
     "metadata": {},
     "output_type": "execute_result"
    }
   ],
   "source": [
    "a[0:10]"
   ]
  },
  {
   "cell_type": "markdown",
   "metadata": {
    "id": "dCsJodFOrVe0"
   },
   "source": [
    "LIST Instnastiation\n",
    "\n",
    "[], list(), remove, insert, append, extend, index, count, reverse, +,"
   ]
  },
  {
   "cell_type": "code",
   "execution_count": 230,
   "metadata": {
    "executionInfo": {
     "elapsed": 408,
     "status": "ok",
     "timestamp": 1705735461786,
     "user": {
      "displayName": "TARIQ JAMIL",
      "userId": "15811585553781902842"
     },
     "user_tz": -300
    },
    "id": "vQMQvmfFo0EB"
   },
   "outputs": [],
   "source": [
    "a=[1,2,3,4]\n",
    "b=[0,5,6,7]"
   ]
  },
  {
   "cell_type": "code",
   "execution_count": 231,
   "metadata": {},
   "outputs": [],
   "source": [
    "a.extend([1,2,3])"
   ]
  },
  {
   "cell_type": "code",
   "execution_count": 232,
   "metadata": {},
   "outputs": [
    {
     "data": {
      "text/plain": [
       "'My class is, in this room'"
      ]
     },
     "execution_count": 232,
     "metadata": {},
     "output_type": "execute_result"
    }
   ],
   "source": [
    "c"
   ]
  },
  {
   "cell_type": "code",
   "execution_count": 233,
   "metadata": {},
   "outputs": [],
   "source": [
    "#a.append(b)"
   ]
  },
  {
   "cell_type": "code",
   "execution_count": 234,
   "metadata": {},
   "outputs": [
    {
     "data": {
      "text/plain": [
       "[1, 2, 3, 4, [0, 5, 6, 7]]"
      ]
     },
     "execution_count": 234,
     "metadata": {},
     "output_type": "execute_result"
    }
   ],
   "source": [
    "[1,2,3,4,[0,5,6,7]]"
   ]
  },
  {
   "cell_type": "markdown",
   "metadata": {
    "id": "js5E_D4lts12"
   },
   "source": [
    "Type Casting"
   ]
  },
  {
   "cell_type": "code",
   "execution_count": 235,
   "metadata": {
    "colab": {
     "base_uri": "https://localhost:8080/"
    },
    "executionInfo": {
     "elapsed": 8,
     "status": "ok",
     "timestamp": 1705734732714,
     "user": {
      "displayName": "TARIQ JAMIL",
      "userId": "15811585553781902842"
     },
     "user_tz": -300
    },
    "id": "59fORpFoqkd8",
    "outputId": "5f0e9064-25d3-46b9-b91e-adad6568c70e"
   },
   "outputs": [],
   "source": [
    "a='1234'\n",
    "b=list(a)\n",
    "c=['1','2','3','5']"
   ]
  },
  {
   "cell_type": "code",
   "execution_count": 236,
   "metadata": {},
   "outputs": [
    {
     "data": {
      "text/plain": [
       "{'1', '2', '3', '5'}"
      ]
     },
     "execution_count": 236,
     "metadata": {},
     "output_type": "execute_result"
    }
   ],
   "source": [
    "d = set(c)\n",
    "d"
   ]
  },
  {
   "cell_type": "code",
   "execution_count": 237,
   "metadata": {},
   "outputs": [],
   "source": [
    "e = (1,2,3)\n",
    "f = list(e)"
   ]
  },
  {
   "cell_type": "code",
   "execution_count": 238,
   "metadata": {},
   "outputs": [],
   "source": [
    "g = tuple(f)"
   ]
  },
  {
   "cell_type": "code",
   "execution_count": 239,
   "metadata": {},
   "outputs": [
    {
     "data": {
      "text/plain": [
       "(1, 2, 3)"
      ]
     },
     "execution_count": 239,
     "metadata": {},
     "output_type": "execute_result"
    }
   ],
   "source": [
    "g"
   ]
  },
  {
   "cell_type": "code",
   "execution_count": 240,
   "metadata": {},
   "outputs": [
    {
     "data": {
      "text/plain": [
       "'1235'"
      ]
     },
     "execution_count": 240,
     "metadata": {},
     "output_type": "execute_result"
    }
   ],
   "source": [
    "''.join(c)"
   ]
  },
  {
   "cell_type": "markdown",
   "metadata": {
    "id": "IKCG5oxco2Yl"
   },
   "source": [
    "CONTROL FLOW / CONDITIONAL STATEMENT"
   ]
  },
  {
   "cell_type": "code",
   "execution_count": 241,
   "metadata": {
    "id": "u0OCOMi4o7-W"
   },
   "outputs": [
    {
     "name": "stdout",
     "output_type": "stream",
     "text": [
      "D\n"
     ]
    }
   ],
   "source": [
    "x = int(input('please enter some digit'))\n",
    "\n",
    "if (x > 90):\n",
    "    print('Grade A')\n",
    "elif x>80 and x <= 90:\n",
    "    print('Grade A-')\n",
    "elif x>70 and x <= 80:\n",
    "    print('Grade B')\n",
    "else:\n",
    "    print('D') "
   ]
  },
  {
   "cell_type": "code",
   "execution_count": 242,
   "metadata": {},
   "outputs": [
    {
     "data": {
      "text/plain": [
       "False"
      ]
     },
     "execution_count": 242,
     "metadata": {},
     "output_type": "execute_result"
    }
   ],
   "source": [
    "x > 90"
   ]
  },
  {
   "cell_type": "markdown",
   "metadata": {
    "id": "lwD-o-Q6pA4y"
   },
   "source": [
    "LOOPS / ITERATOIN BLOCKS\n",
    "\n",
    "for, while"
   ]
  },
  {
   "cell_type": "code",
   "execution_count": 243,
   "metadata": {},
   "outputs": [],
   "source": [
    "#list(range(1000))"
   ]
  },
  {
   "cell_type": "code",
   "execution_count": 244,
   "metadata": {
    "id": "DUdnpcmkpKcM"
   },
   "outputs": [
    {
     "name": "stdout",
     "output_type": "stream",
     "text": [
      "I am fine\n",
      "I am fine\n",
      "I am fine\n",
      "I am fine\n"
     ]
    }
   ],
   "source": [
    "for i in range(1,5):\n",
    "    print('I am fine')"
   ]
  },
  {
   "cell_type": "code",
   "execution_count": 245,
   "metadata": {},
   "outputs": [
    {
     "data": {
      "text/plain": [
       "['1', '2', '3', '5']"
      ]
     },
     "execution_count": 245,
     "metadata": {},
     "output_type": "execute_result"
    }
   ],
   "source": [
    "c"
   ]
  },
  {
   "cell_type": "code",
   "execution_count": 246,
   "metadata": {},
   "outputs": [
    {
     "name": "stdout",
     "output_type": "stream",
     "text": [
      "1\n",
      "2\n",
      "3\n",
      "5\n",
      "loop finished\n",
      "SUM=11\n"
     ]
    }
   ],
   "source": [
    "sum = 0\n",
    "for e in c:\n",
    "    sum = sum + int(e)\n",
    "    print(e)\n",
    "print('loop finished')\n",
    "#print(f'sum={0}'.format(sum))\n",
    "print(f'SUM={sum}')"
   ]
  },
  {
   "cell_type": "code",
   "execution_count": 247,
   "metadata": {},
   "outputs": [],
   "source": [
    "a= [1,2,3,4.]"
   ]
  },
  {
   "cell_type": "code",
   "execution_count": null,
   "metadata": {},
   "outputs": [],
   "source": []
  },
  {
   "cell_type": "code",
   "execution_count": 248,
   "metadata": {},
   "outputs": [
    {
     "name": "stdout",
     "output_type": "stream",
     "text": [
      "1.3\n",
      "2012.22223\n",
      "3.9999\n",
      "5.0022\n",
      "loop finished\n",
      "SUM=2022.52\n"
     ]
    }
   ],
   "source": [
    "c = [1.3, 2012.22223, 3.9999, 5.0022]\n",
    "sum = 0\n",
    "for e in c:\n",
    "    sum = sum + e\n",
    "    print(e)\n",
    "print('loop finished')\n",
    "#print(f'sum={0}'.format(sum))\n",
    "print(f'SUM={sum:3.2f}')   # decimal point contol"
   ]
  },
  {
   "cell_type": "code",
   "execution_count": 249,
   "metadata": {},
   "outputs": [],
   "source": [
    "capitals = {'UK':'London', 'Pakistan':'Islamabad', 'UAE':'Abudhabi', 'KSA':'Riyad'}"
   ]
  },
  {
   "cell_type": "code",
   "execution_count": 250,
   "metadata": {},
   "outputs": [
    {
     "data": {
      "text/plain": [
       "dict_keys(['UK', 'Pakistan', 'UAE', 'KSA'])"
      ]
     },
     "execution_count": 250,
     "metadata": {},
     "output_type": "execute_result"
    }
   ],
   "source": [
    "capitals.keys()"
   ]
  },
  {
   "cell_type": "code",
   "execution_count": 251,
   "metadata": {},
   "outputs": [
    {
     "data": {
      "text/plain": [
       "dict_values(['London', 'Islamabad', 'Abudhabi', 'Riyad'])"
      ]
     },
     "execution_count": 251,
     "metadata": {},
     "output_type": "execute_result"
    }
   ],
   "source": [
    "capitals.values()"
   ]
  },
  {
   "cell_type": "code",
   "execution_count": 252,
   "metadata": {},
   "outputs": [
    {
     "name": "stdout",
     "output_type": "stream",
     "text": [
      "UK London\n",
      "Pakistan Islamabad\n",
      "UAE Abudhabi\n",
      "KSA Riyad\n"
     ]
    }
   ],
   "source": [
    "for k,v in capitals.items():\n",
    "    print(k,v)"
   ]
  },
  {
   "cell_type": "markdown",
   "metadata": {},
   "source": [
    "dict_keys(['UK', 'Pakistan', 'UAE', 'KSA'])"
   ]
  },
  {
   "cell_type": "code",
   "execution_count": 253,
   "metadata": {},
   "outputs": [
    {
     "name": "stdout",
     "output_type": "stream",
     "text": [
      "UK London\n",
      "Pakistan Islamabad\n",
      "UAE Abudhabi\n",
      "KSA Riyad\n"
     ]
    }
   ],
   "source": [
    "for i in capitals.keys():\n",
    "    v = capitals[i]     # redundant .. could have avoided \n",
    "    print(i,v)"
   ]
  },
  {
   "cell_type": "code",
   "execution_count": 254,
   "metadata": {},
   "outputs": [
    {
     "name": "stdout",
     "output_type": "stream",
     "text": [
      "{'London': 'UK', 'Islamabad': 'Pakistan', 'Abudhabi': 'UAE', 'Riyad': 'KSA'}\n"
     ]
    }
   ],
   "source": [
    "d1 = dict()   # ={}\n",
    "for k,v in capitals.items():\n",
    "    d1[v] = k\n",
    "\n",
    "print(d1)"
   ]
  },
  {
   "cell_type": "code",
   "execution_count": 255,
   "metadata": {},
   "outputs": [],
   "source": [
    "h = {'Farhan':'6.0', 'Muneeb':'6.1', 'Aqsa':'5.9', 'Dr.':'5.99'}"
   ]
  },
  {
   "cell_type": "code",
   "execution_count": 256,
   "metadata": {},
   "outputs": [
    {
     "data": {
      "text/plain": [
       "(dict_values(['6.0', '6.1', '5.9', '5.99']),\n",
       " dict_keys(['Farhan', 'Muneeb', 'Aqsa', 'Dr.']))"
      ]
     },
     "execution_count": 256,
     "metadata": {},
     "output_type": "execute_result"
    }
   ],
   "source": [
    "#print(h.keys())\n",
    "h.values(), h.keys()"
   ]
  },
  {
   "cell_type": "code",
   "execution_count": 257,
   "metadata": {},
   "outputs": [
    {
     "data": {
      "text/plain": [
       "'5.99'"
      ]
     },
     "execution_count": 257,
     "metadata": {},
     "output_type": "execute_result"
    }
   ],
   "source": [
    "h['Dr.']"
   ]
  },
  {
   "cell_type": "code",
   "execution_count": 258,
   "metadata": {},
   "outputs": [
    {
     "name": "stdout",
     "output_type": "stream",
     "text": [
      "{'6.0': 'Farhan', '6.1': 'Muneeb', '5.9': 'Aqsa', '5.99': 'Dr.'}\n"
     ]
    }
   ],
   "source": [
    "h_new = {}\n",
    "for k,v in h.items():\n",
    "    #if k=='Dr.' or v=='6.1':\n",
    "    h_new[v] = k\n",
    "\n",
    "print(h_new) "
   ]
  },
  {
   "cell_type": "code",
   "execution_count": 259,
   "metadata": {
    "tags": []
   },
   "outputs": [],
   "source": [
    "A = [1,2,3,4]\n",
    "B = [5,6,7,8]"
   ]
  },
  {
   "cell_type": "code",
   "execution_count": 260,
   "metadata": {
    "tags": []
   },
   "outputs": [],
   "source": [
    "A.extend(B)"
   ]
  },
  {
   "cell_type": "code",
   "execution_count": 261,
   "metadata": {
    "tags": []
   },
   "outputs": [
    {
     "data": {
      "text/plain": [
       "[1, 2, 3, 4, 5, 6, 7, 8]"
      ]
     },
     "execution_count": 261,
     "metadata": {},
     "output_type": "execute_result"
    }
   ],
   "source": [
    "A"
   ]
  },
  {
   "cell_type": "code",
   "execution_count": 262,
   "metadata": {
    "tags": []
   },
   "outputs": [],
   "source": [
    "C=[11,12,13]\n",
    "x = 14\n",
    "A.append(C)\n",
    "A.append(x)"
   ]
  },
  {
   "cell_type": "code",
   "execution_count": 263,
   "metadata": {
    "tags": []
   },
   "outputs": [
    {
     "data": {
      "text/plain": [
       "[1, 2, 3, 4, 5, 6, 7, 8, [11, 12, 13], 14]"
      ]
     },
     "execution_count": 263,
     "metadata": {},
     "output_type": "execute_result"
    }
   ],
   "source": [
    "A"
   ]
  },
  {
   "cell_type": "code",
   "execution_count": 264,
   "metadata": {
    "tags": []
   },
   "outputs": [],
   "source": [
    "A.remove([11, 12, 13])"
   ]
  },
  {
   "cell_type": "code",
   "execution_count": 265,
   "metadata": {
    "tags": []
   },
   "outputs": [
    {
     "data": {
      "text/plain": [
       "[1, 2, 3, 4, 5, 6, 7, 8, 14]"
      ]
     },
     "execution_count": 265,
     "metadata": {},
     "output_type": "execute_result"
    }
   ],
   "source": [
    "A"
   ]
  },
  {
   "cell_type": "code",
   "execution_count": 266,
   "metadata": {
    "tags": []
   },
   "outputs": [
    {
     "data": {
      "text/plain": [
       "[14, 8, 7, 6, 5, 4, 3, 2, 1]"
      ]
     },
     "execution_count": 266,
     "metadata": {},
     "output_type": "execute_result"
    }
   ],
   "source": [
    "sorted(A, reverse=True)"
   ]
  },
  {
   "cell_type": "markdown",
   "metadata": {},
   "source": [
    "# cryptography"
   ]
  },
  {
   "cell_type": "code",
   "execution_count": 267,
   "metadata": {
    "tags": []
   },
   "outputs": [],
   "source": [
    "text = 'This is PGD class Number 6, dated: 21.01.2024 and there is a sunshine outside'"
   ]
  },
  {
   "cell_type": "code",
   "execution_count": 268,
   "metadata": {
    "tags": []
   },
   "outputs": [],
   "source": [
    "text_list = list(text)"
   ]
  },
  {
   "cell_type": "code",
   "execution_count": 269,
   "metadata": {
    "tags": []
   },
   "outputs": [
    {
     "name": "stdout",
     "output_type": "stream",
     "text": [
      "['T', 'h', 'i', 's', ' ', 'i', 's', ' ', 'P', 'G', 'D', ' ', 'c', 'l', 'a', 's', 's', ' ', 'N', 'u', 'm', 'b', 'e', 'r', ' ', '6', ',', ' ', 'd', 'a', 't', 'e', 'd', ':', ' ', '2', '1', '.', '0', '1', '.', '2', '0', '2', '4', ' ', 'a', 'n', 'd', ' ', 't', 'h', 'e', 'r', 'e', ' ', 'i', 's', ' ', 'a', ' ', 's', 'u', 'n', 's', 'h', 'i', 'n', 'e', ' ', 'o', 'u', 't', 's', 'i', 'd', 'e']\n"
     ]
    }
   ],
   "source": [
    "print(text_list)"
   ]
  },
  {
   "cell_type": "code",
   "execution_count": 270,
   "metadata": {
    "tags": []
   },
   "outputs": [],
   "source": [
    "unique_letters = set(text_list)\n",
    "max_chars = len(unique_letters)\n",
    "codes = list(range(1,max_chars+1))"
   ]
  },
  {
   "cell_type": "code",
   "execution_count": 271,
   "metadata": {
    "tags": []
   },
   "outputs": [
    {
     "name": "stdout",
     "output_type": "stream",
     "text": [
      "{'m', 'n', 'c', ' ', ',', '6', 'u', 't', 'e', 'l', 'a', 'b', 'T', 'h', 'G', 's', 'D', 'N', 'P', '4', '.', 'i', 'r', '2', '0', 'd', '1', ':', 'o'}\n",
      "[1, 2, 3, 4, 5, 6, 7, 8, 9, 10, 11, 12, 13, 14, 15, 16, 17, 18, 19, 20, 21, 22, 23, 24, 25, 26, 27, 28, 29]\n"
     ]
    }
   ],
   "source": [
    "print(unique_letters)\n",
    "print(codes)"
   ]
  },
  {
   "cell_type": "code",
   "execution_count": 272,
   "metadata": {
    "tags": []
   },
   "outputs": [],
   "source": [
    "encode = dict(zip(unique_letters, codes))"
   ]
  },
  {
   "cell_type": "code",
   "execution_count": 273,
   "metadata": {
    "tags": []
   },
   "outputs": [
    {
     "name": "stdout",
     "output_type": "stream",
     "text": [
      "{'m': 1, 'n': 2, 'c': 3, ' ': 4, ',': 5, '6': 6, 'u': 7, 't': 8, 'e': 9, 'l': 10, 'a': 11, 'b': 12, 'T': 13, 'h': 14, 'G': 15, 's': 16, 'D': 17, 'N': 18, 'P': 19, '4': 20, '.': 21, 'i': 22, 'r': 23, '2': 24, '0': 25, 'd': 26, '1': 27, ':': 28, 'o': 29}\n"
     ]
    }
   ],
   "source": [
    "print(encode)"
   ]
  },
  {
   "cell_type": "code",
   "execution_count": 274,
   "metadata": {
    "tags": []
   },
   "outputs": [
    {
     "name": "stdout",
     "output_type": "stream",
     "text": [
      "T 13\n",
      "h 14\n",
      "i 22\n",
      "s 16\n",
      "  4\n",
      "i 22\n",
      "s 16\n",
      "  4\n",
      "P 19\n",
      "G 15\n",
      "D 17\n",
      "  4\n",
      "c 3\n",
      "l 10\n",
      "a 11\n",
      "s 16\n",
      "s 16\n",
      "  4\n",
      "N 18\n",
      "u 7\n",
      "m 1\n",
      "b 12\n",
      "e 9\n",
      "r 23\n",
      "  4\n",
      "6 6\n",
      ", 5\n",
      "  4\n",
      "d 26\n",
      "a 11\n",
      "t 8\n",
      "e 9\n",
      "d 26\n",
      ": 28\n",
      "  4\n",
      "2 24\n",
      "1 27\n",
      ". 21\n",
      "0 25\n",
      "1 27\n",
      ". 21\n",
      "2 24\n",
      "0 25\n",
      "2 24\n",
      "4 20\n",
      "  4\n",
      "a 11\n",
      "n 2\n",
      "d 26\n",
      "  4\n",
      "t 8\n",
      "h 14\n",
      "e 9\n",
      "r 23\n",
      "e 9\n",
      "  4\n",
      "i 22\n",
      "s 16\n",
      "  4\n",
      "a 11\n",
      "  4\n",
      "s 16\n",
      "u 7\n",
      "n 2\n",
      "s 16\n",
      "h 14\n",
      "i 22\n",
      "n 2\n",
      "e 9\n",
      "  4\n",
      "o 29\n",
      "u 7\n",
      "t 8\n",
      "s 16\n",
      "i 22\n",
      "d 26\n",
      "e 9\n",
      "[13, 14, 22, 16, 4, 22, 16, 4, 19, 15, 17, 4, 3, 10, 11, 16, 16, 4, 18, 7, 1, 12, 9, 23, 4, 6, 5, 4, 26, 11, 8, 9, 26, 28, 4, 24, 27, 21, 25, 27, 21, 24, 25, 24, 20, 4, 11, 2, 26, 4, 8, 14, 9, 23, 9, 4, 22, 16, 4, 11, 4, 16, 7, 2, 16, 14, 22, 2, 9, 4, 29, 7, 8, 16, 22, 26, 9]\n"
     ]
    }
   ],
   "source": [
    "encoded_output = []\n",
    "for char in text:\n",
    "    #print(char)\n",
    "    code = encode[char]\n",
    "    print(char, code)\n",
    "    #codeC = chr(code)\n",
    "    encoded_output.append(code)\n",
    "\n",
    "print(encoded_output)"
   ]
  },
  {
   "cell_type": "code",
   "execution_count": 275,
   "metadata": {},
   "outputs": [],
   "source": [
    "#decoded_char = bytes.fromhex(hex_code).decode(\"utf-8\")  # Decode hex to character"
   ]
  },
  {
   "cell_type": "code",
   "execution_count": 277,
   "metadata": {},
   "outputs": [
    {
     "name": "stdout",
     "output_type": "stream",
     "text": [
      "['I', ' ', 'l', 'o', 'v', 'e', ' ', 'P', 'a', 'k', 'i', 's', 't', 'a', 'n']\n",
      "I love Pakistan\n"
     ]
    }
   ],
   "source": [
    "def create_text_from_ascii_codes(ascii_codes):\n",
    "  \"\"\"Converts a list of ASCII codes back to their corresponding characters.\"\"\"\n",
    "\n",
    "  chars = [chr(code) for code in ascii_codes]  # Convert ASCII codes to characters\n",
    "  print(chars)\n",
    "  text = \"\".join(chars)  # Join the characters to form a string\n",
    "\n",
    "  return text\n",
    "\n",
    "# Example usage\n",
    "ascii_codes = [73, 32, 108, 111, 118, 101, 32, 80, 97, 107, 105, 115, 116, 97, 110]\n",
    "text = create_text_from_ascii_codes(ascii_codes)\n",
    "print(text)  # Output: I love Pakistan\n"
   ]
  },
  {
   "cell_type": "code",
   "execution_count": 278,
   "metadata": {
    "tags": []
   },
   "outputs": [
    {
     "name": "stdout",
     "output_type": "stream",
     "text": [
      "{'m': 1, 'n': 2, 'c': 3, ' ': 4, ',': 5, '6': 6, 'u': 7, 't': 8, 'e': 9, 'l': 10, 'a': 11, 'b': 12, 'T': 13, 'h': 14, 'G': 15, 's': 16, 'D': 17, 'N': 18, 'P': 19, '4': 20, '.': 21, 'i': 22, 'r': 23, '2': 24, '0': 25, 'd': 26, '1': 27, ':': 28, 'o': 29}\n"
     ]
    }
   ],
   "source": [
    "print(encode)"
   ]
  },
  {
   "cell_type": "code",
   "execution_count": 279,
   "metadata": {
    "tags": []
   },
   "outputs": [
    {
     "name": "stdout",
     "output_type": "stream",
     "text": [
      "{1: 'm', 2: 'n', 3: 'c', 4: ' ', 5: ',', 6: '6', 7: 'u', 8: 't', 9: 'e', 10: 'l', 11: 'a', 12: 'b', 13: 'T', 14: 'h', 15: 'G', 16: 's', 17: 'D', 18: 'N', 19: 'P', 20: '4', 21: '.', 22: 'i', 23: 'r', 24: '2', 25: '0', 26: 'd', 27: '1', 28: ':', 29: 'o'}\n"
     ]
    }
   ],
   "source": [
    "decode = {}\n",
    "for k,v in encode.items():\n",
    "    decode[v] = k\n",
    "\n",
    "print(decode)"
   ]
  },
  {
   "cell_type": "code",
   "execution_count": 280,
   "metadata": {
    "tags": []
   },
   "outputs": [
    {
     "name": "stdout",
     "output_type": "stream",
     "text": [
      "['T', 'h', 'i', 's', ' ', 'i', 's', ' ', 'P', 'G', 'D', ' ', 'c', 'l', 'a', 's', 's', ' ', 'N', 'u', 'm', 'b', 'e', 'r', ' ', '6', ',', ' ', 'd', 'a', 't', 'e', 'd', ':', ' ', '2', '1', '.', '0', '1', '.', '2', '0', '2', '4', ' ', 'a', 'n', 'd', ' ', 't', 'h', 'e', 'r', 'e', ' ', 'i', 's', ' ', 'a', ' ', 's', 'u', 'n', 's', 'h', 'i', 'n', 'e', ' ', 'o', 'u', 't', 's', 'i', 'd', 'e']\n"
     ]
    }
   ],
   "source": [
    "decoded_output = []\n",
    "for i in encoded_output:\n",
    "    #print(i)\n",
    "    c = decode[i]\n",
    "    #print(c)\n",
    "    decoded_output.append(c)\n",
    "\n",
    "print(decoded_output)"
   ]
  },
  {
   "cell_type": "code",
   "execution_count": 281,
   "metadata": {
    "tags": []
   },
   "outputs": [
    {
     "name": "stdout",
     "output_type": "stream",
     "text": [
      "This is PGD class Number 6, dated: 21.01.2024 and there is a sunshine outside\n"
     ]
    }
   ],
   "source": [
    "decoded_text = ''.join(decoded_output)\n",
    "print(decoded_text)"
   ]
  },
  {
   "cell_type": "code",
   "execution_count": 282,
   "metadata": {
    "tags": []
   },
   "outputs": [
    {
     "ename": "AssertionError",
     "evalue": "",
     "output_type": "error",
     "traceback": [
      "\u001b[0;31m---------------------------------------------------------------------------\u001b[0m",
      "\u001b[0;31mAssertionError\u001b[0m                            Traceback (most recent call last)",
      "Cell \u001b[0;32mIn[282], line 1\u001b[0m\n\u001b[0;32m----> 1\u001b[0m \u001b[38;5;28;01massert\u001b[39;00m (text\u001b[38;5;241m==\u001b[39mdecoded_text)\n",
      "\u001b[0;31mAssertionError\u001b[0m: "
     ]
    }
   ],
   "source": [
    "assert (text==decoded_text)"
   ]
  },
  {
   "cell_type": "markdown",
   "metadata": {
    "id": "Jpouq2xOpQ2_"
   },
   "source": [
    "# FUNCTIONS"
   ]
  },
  {
   "cell_type": "code",
   "execution_count": null,
   "metadata": {
    "tags": []
   },
   "outputs": [],
   "source": [
    "def add(A:int, B:int): #A, B are parameters\n",
    "    '''\n",
    "    This function adds 2 variables and returns summation of two.\n",
    "    \n",
    "    '''\n",
    "    c=A+B\n",
    "    #print(c)\n",
    "    return c"
   ]
  },
  {
   "cell_type": "code",
   "execution_count": null,
   "metadata": {
    "executionInfo": {
     "elapsed": 8,
     "status": "ok",
     "timestamp": 1705734889942,
     "user": {
      "displayName": "TARIQ JAMIL",
      "userId": "15811585553781902842"
     },
     "user_tz": -300
    },
    "id": "hCH0FeNFpR_T",
    "tags": []
   },
   "outputs": [],
   "source": [
    "x = add(1,2)\n",
    "y = add(3,7)\n",
    "z = add(x,y)"
   ]
  },
  {
   "cell_type": "code",
   "execution_count": null,
   "metadata": {
    "tags": []
   },
   "outputs": [
    {
     "data": {
      "text/plain": [
       "(3, 10, 13)"
      ]
     },
     "execution_count": 129,
     "metadata": {},
     "output_type": "execute_result"
    }
   ],
   "source": [
    "x,y,z"
   ]
  },
  {
   "cell_type": "code",
   "execution_count": null,
   "metadata": {
    "tags": []
   },
   "outputs": [
    {
     "data": {
      "text/plain": [
       "'ZZYY'"
      ]
     },
     "execution_count": 130,
     "metadata": {},
     "output_type": "execute_result"
    }
   ],
   "source": [
    "add('ZZ', 'YY')"
   ]
  },
  {
   "cell_type": "markdown",
   "metadata": {
    "id": "kIHfMacRq4iH"
   },
   "source": [
    "Parameters and Arguments"
   ]
  },
  {
   "cell_type": "code",
   "execution_count": null,
   "metadata": {
    "executionInfo": {
     "elapsed": 454,
     "status": "ok",
     "timestamp": 1705734884509,
     "user": {
      "displayName": "TARIQ JAMIL",
      "userId": "15811585553781902842"
     },
     "user_tz": -300
    },
    "id": "jfeXahJ9tc9P",
    "tags": []
   },
   "outputs": [],
   "source": [
    "def add1(d1, d2, d4, d3=5): #A, B are parameters\n",
    "    '''\n",
    "    This function adds 2 variables and returns summation of two.\n",
    "    \n",
    "    '''    \n",
    "    x=d1+d2+d3+d4\n",
    "    #print(c)\n",
    "    return x"
   ]
  },
  {
   "cell_type": "code",
   "execution_count": null,
   "metadata": {
    "tags": []
   },
   "outputs": [
    {
     "data": {
      "text/plain": [
       "60"
      ]
     },
     "execution_count": 132,
     "metadata": {},
     "output_type": "execute_result"
    }
   ],
   "source": [
    "add1(10,3,7,40)"
   ]
  },
  {
   "cell_type": "markdown",
   "metadata": {},
   "source": [
    "## creating cypher and decypher functions"
   ]
  },
  {
   "cell_type": "code",
   "execution_count": null,
   "metadata": {
    "tags": []
   },
   "outputs": [],
   "source": [
    "def cypher(text):\n",
    "    '''\n",
    "    This function encodes a text into a list of numbers\n",
    "    '''\n",
    "    \n",
    "    text_list = list(text)\n",
    "    unique_letters = set(text_list)\n",
    "    max_chars = len(unique_letters)\n",
    "    print(max_chars)\n",
    "    codes = list(range(1,max_chars+1))\n",
    "    encode = dict(zip(unique_letters, codes))\n",
    "    \n",
    "    encoded_output = []\n",
    "    print(text, len(text))\n",
    "    for char in text:\n",
    "        code = encode[char]\n",
    "        encoded_output.append(code)\n",
    "\n",
    "    # returns a list of encoded values\n",
    "    return encoded_output, encode\n",
    "    "
   ]
  },
  {
   "cell_type": "code",
   "execution_count": null,
   "metadata": {
    "tags": []
   },
   "outputs": [
    {
     "name": "stdout",
     "output_type": "stream",
     "text": [
      "19\n",
      "i am 8 years old, I eat bread with cheese 41\n",
      "[15, 4, 10, 1, 4, 18, 4, 3, 8, 10, 16, 14, 4, 19, 9, 17, 5, 4, 12, 4, 8, 10, 6, 4, 11, 16, 8, 10, 17, 4, 7, 15, 6, 13, 4, 2, 13, 8, 8, 14, 8]\n",
      "{'m': 1, 'c': 2, 'y': 3, ' ': 4, ',': 5, 't': 6, 'w': 7, 'e': 8, 'l': 9, 'a': 10, 'b': 11, 'I': 12, 'h': 13, 's': 14, 'i': 15, 'r': 16, 'd': 17, '8': 18, 'o': 19}\n"
     ]
    }
   ],
   "source": [
    "c1, codes = cypher('i am 8 years old, I eat bread with cheese')\n",
    "print(c1)\n",
    "print(codes)"
   ]
  },
  {
   "cell_type": "code",
   "execution_count": null,
   "metadata": {
    "tags": []
   },
   "outputs": [],
   "source": [
    "def decypher(cypher_list, encode):\n",
    "    '''\n",
    "    This function returns text from decypher list\n",
    "    '''\n",
    "    decode = {}\n",
    "    for k,v in encode.items():\n",
    "        decode[v] = k\n",
    "        \n",
    "    decoded_output = []\n",
    "    for i in encoded_output:\n",
    "        #print(i)\n",
    "        c = decode[i]\n",
    "        #print(c)\n",
    "        decoded_output.append(c)\n",
    "        \n",
    "    # decoded text\n",
    "    decoded_text = ''.join(decoded_output)\n",
    "    \n",
    "    return decoded_text    "
   ]
  },
  {
   "cell_type": "code",
   "execution_count": null,
   "metadata": {
    "tags": []
   },
   "outputs": [
    {
     "ename": "KeyError",
     "evalue": "22",
     "output_type": "error",
     "traceback": [
      "\u001b[0;31m---------------------------------------------------------------------------\u001b[0m",
      "\u001b[0;31mKeyError\u001b[0m                                  Traceback (most recent call last)",
      "Cell \u001b[0;32mIn[136], line 1\u001b[0m\n\u001b[0;32m----> 1\u001b[0m t1 \u001b[38;5;241m=\u001b[39m \u001b[43mdecypher\u001b[49m\u001b[43m(\u001b[49m\u001b[43mc1\u001b[49m\u001b[43m,\u001b[49m\u001b[43m \u001b[49m\u001b[43mcodes\u001b[49m\u001b[43m)\u001b[49m\n",
      "Cell \u001b[0;32mIn[135], line 12\u001b[0m, in \u001b[0;36mdecypher\u001b[0;34m(cypher_list, encode)\u001b[0m\n\u001b[1;32m      9\u001b[0m decoded_output \u001b[38;5;241m=\u001b[39m []\n\u001b[1;32m     10\u001b[0m \u001b[38;5;28;01mfor\u001b[39;00m i \u001b[38;5;129;01min\u001b[39;00m encoded_output:\n\u001b[1;32m     11\u001b[0m     \u001b[38;5;66;03m#print(i)\u001b[39;00m\n\u001b[0;32m---> 12\u001b[0m     c \u001b[38;5;241m=\u001b[39m \u001b[43mdecode\u001b[49m\u001b[43m[\u001b[49m\u001b[43mi\u001b[49m\u001b[43m]\u001b[49m\n\u001b[1;32m     13\u001b[0m     \u001b[38;5;66;03m#print(c)\u001b[39;00m\n\u001b[1;32m     14\u001b[0m     decoded_output\u001b[38;5;241m.\u001b[39mappend(c)\n",
      "\u001b[0;31mKeyError\u001b[0m: 22"
     ]
    }
   ],
   "source": [
    "t1 = decypher(c1, codes)"
   ]
  },
  {
   "cell_type": "code",
   "execution_count": null,
   "metadata": {
    "tags": []
   },
   "outputs": [
    {
     "data": {
      "text/plain": [
       "'This is PGD class Number 6, dated: 21.01.2024 and there is a sunshine outside'"
      ]
     },
     "execution_count": 123,
     "metadata": {},
     "output_type": "execute_result"
    }
   ],
   "source": [
    "t1"
   ]
  },
  {
   "cell_type": "code",
   "execution_count": null,
   "metadata": {},
   "outputs": [],
   "source": []
  },
  {
   "cell_type": "markdown",
   "metadata": {
    "id": "T1P2EVJvuPW6"
   },
   "source": [
    "Package Managers and Importing Packages"
   ]
  },
  {
   "cell_type": "code",
   "execution_count": null,
   "metadata": {
    "id": "tNuluoM4tgJp"
   },
   "outputs": [],
   "source": []
  },
  {
   "cell_type": "markdown",
   "metadata": {
    "id": "ov58RY5Dxynr"
   },
   "source": [
    "Modulus Operator, exponent operator"
   ]
  },
  {
   "cell_type": "code",
   "execution_count": null,
   "metadata": {
    "id": "C_-hAjPBxxrc"
   },
   "outputs": [],
   "source": []
  },
  {
   "cell_type": "markdown",
   "metadata": {
    "id": "oHK3xoCpxvxI"
   },
   "source": [
    "Operator Precedence"
   ]
  },
  {
   "cell_type": "code",
   "execution_count": null,
   "metadata": {
    "id": "D1aTQFHsx0rc"
   },
   "outputs": [],
   "source": []
  }
 ],
 "metadata": {
  "colab": {
   "authorship_tag": "ABX9TyNSPhM37g4/5taYbEzsktXL",
   "provenance": []
  },
  "kernelspec": {
   "display_name": "Python 3 (ipykernel)",
   "language": "python",
   "name": "python3"
  },
  "language_info": {
   "codemirror_mode": {
    "name": "ipython",
    "version": 3
   },
   "file_extension": ".py",
   "mimetype": "text/x-python",
   "name": "python",
   "nbconvert_exporter": "python",
   "pygments_lexer": "ipython3",
   "version": "3.9.0"
  }
 },
 "nbformat": 4,
 "nbformat_minor": 4
}
