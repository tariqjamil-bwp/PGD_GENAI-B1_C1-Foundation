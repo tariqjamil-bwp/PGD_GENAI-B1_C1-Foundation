{
 "cells": [
  {
   "cell_type": "code",
   "execution_count": 12,
   "id": "5d8e7b86",
   "metadata": {},
   "outputs": [],
   "source": [
    "import numpy as np"
   ]
  },
  {
   "cell_type": "code",
   "execution_count": 10,
   "id": "14849841",
   "metadata": {},
   "outputs": [
    {
     "name": "stdout",
     "output_type": "stream",
     "text": [
      "CPU times: user 3.6 s, sys: 397 ms, total: 4 s\n",
      "Wall time: 4 s\n"
     ]
    }
   ],
   "source": [
    "%%time\n",
    "A = list(range(10000000))\n",
    "\n",
    "B = []\n",
    "for i in A:\n",
    "    B.append(i**2)"
   ]
  },
  {
   "cell_type": "code",
   "execution_count": 6,
   "id": "54631f04-9737-441c-9500-e16d0544d168",
   "metadata": {},
   "outputs": [
    {
     "data": {
      "text/plain": [
       "[1, 4, 9, 16, 25]"
      ]
     },
     "execution_count": 6,
     "metadata": {},
     "output_type": "execute_result"
    }
   ],
   "source": [
    "B"
   ]
  },
  {
   "cell_type": "code",
   "execution_count": 15,
   "id": "603999ac-3b32-457b-a9c7-955cb97bff6d",
   "metadata": {},
   "outputs": [
    {
     "name": "stdout",
     "output_type": "stream",
     "text": [
      "CPU times: user 410 ms, sys: 66.7 ms, total: 477 ms\n",
      "Wall time: 475 ms\n"
     ]
    }
   ],
   "source": [
    "%%time\n",
    "C = np.array(A)"
   ]
  },
  {
   "cell_type": "code",
   "execution_count": 14,
   "id": "d621ca26-52bc-4f77-bc60-e033c846bc23",
   "metadata": {},
   "outputs": [
    {
     "data": {
      "text/plain": [
       "array([             0,              1,              4, ...,\n",
       "       99999940000009, 99999960000004, 99999980000001])"
      ]
     },
     "execution_count": 14,
     "metadata": {},
     "output_type": "execute_result"
    }
   ],
   "source": [
    "C**2"
   ]
  },
  {
   "cell_type": "code",
   "execution_count": null,
   "id": "e22b5a5e-298a-4c26-b7d0-1c97a470342e",
   "metadata": {},
   "outputs": [],
   "source": []
  },
  {
   "cell_type": "raw",
   "id": "e3665e91-7f97-4f9c-91b1-d2d4dd3b2d0d",
   "metadata": {},
   "source": [
    "Read file comma separated \n",
    "\n"
   ]
  }
 ],
 "metadata": {
  "kernelspec": {
   "display_name": "class09",
   "language": "python",
   "name": "class09"
  },
  "language_info": {
   "codemirror_mode": {
    "name": "ipython",
    "version": 3
   },
   "file_extension": ".py",
   "mimetype": "text/x-python",
   "name": "python",
   "nbconvert_exporter": "python",
   "pygments_lexer": "ipython3",
   "version": "3.9.0"
  }
 },
 "nbformat": 4,
 "nbformat_minor": 5
}
