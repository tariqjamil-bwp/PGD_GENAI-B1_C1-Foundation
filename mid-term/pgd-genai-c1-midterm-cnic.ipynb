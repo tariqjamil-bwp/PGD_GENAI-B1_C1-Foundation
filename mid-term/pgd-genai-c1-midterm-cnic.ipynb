{
 "cells": [
  {
   "cell_type": "markdown",
   "metadata": {},
   "source": [
    "## MID TERM PAPER (04.Feb.2024)\n",
    "### PGD (GEN AI) - Intrudcutuon to GEN-AI \n",
    "#### Python\n",
    "\n",
    "Note: Please follow the Section Instructions to work. Can add as many code cells as required to make your reply."
   ]
  },
  {
   "cell_type": "markdown",
   "metadata": {},
   "source": [
    "1. Load the give file 'cardio_base.csv' into python notebook."
   ]
  },
  {
   "cell_type": "code",
   "execution_count": null,
   "metadata": {},
   "outputs": [],
   "source": []
  },
  {
   "cell_type": "markdown",
   "metadata": {},
   "source": [
    "1a. Check the length of lines in the file"
   ]
  },
  {
   "cell_type": "code",
   "execution_count": null,
   "metadata": {},
   "outputs": [],
   "source": []
  },
  {
   "cell_type": "markdown",
   "metadata": {},
   "source": [
    "2a. Load first 5 lines of the file into a list.\n",
    "Make sure that list has items separated by commas which are in the list."
   ]
  },
  {
   "cell_type": "code",
   "execution_count": null,
   "metadata": {},
   "outputs": [],
   "source": []
  },
  {
   "cell_type": "markdown",
   "metadata": {},
   "source": [
    "2. Create a dictionary such that first line (headings) become key of the dictionary and the value of keys are the sum of 4 values appraing in next 4 lines of the file.\n"
   ]
  },
  {
   "cell_type": "code",
   "execution_count": 5,
   "metadata": {},
   "outputs": [
    {
     "data": {
      "text/plain": [
       "\"\\nA,B\\n1,4\\n2,3\\n4,5\\n6,7\\n\\nDictionary = {'A': 13, 'B':19}\""
      ]
     },
     "execution_count": 5,
     "metadata": {},
     "output_type": "execute_result"
    }
   ],
   "source": [
    "# Example:\n",
    "\n",
    "'''\n",
    "A,B\n",
    "1,4\n",
    "2,3\n",
    "4,5\n",
    "6,7\n",
    "\n",
    "Dictionary = {'A': 13, 'B':19}'''"
   ]
  },
  {
   "cell_type": "code",
   "execution_count": null,
   "metadata": {},
   "outputs": [],
   "source": []
  },
  {
   "cell_type": "markdown",
   "metadata": {},
   "source": [
    "4. Make a function which takes one integer value 'age'. The age is in no of days. Covnert the age such that it returns age in years correct t 2 decimal places.  "
   ]
  },
  {
   "cell_type": "code",
   "execution_count": null,
   "metadata": {},
   "outputs": [],
   "source": []
  },
  {
   "cell_type": "markdown",
   "metadata": {},
   "source": [
    "4a. Apply this function to value of 'age' in the dictionary, and make a new key 'years' and put the output of the function as value."
   ]
  },
  {
   "cell_type": "code",
   "execution_count": null,
   "metadata": {},
   "outputs": [],
   "source": []
  },
  {
   "cell_type": "markdown",
   "metadata": {},
   "source": [
    "5. In the originally loaded list from file, th second values of each of lines 1-4 are 'gender' (as evident from first row).\n",
    "The gender 1: male, 2 is female.\n",
    "\n",
    "Using a loop and if statement, calculate the number of male/female and, add 2 keys, 'male' and 'female' into the dictionary created in step 2."
   ]
  },
  {
   "cell_type": "markdown",
   "metadata": {},
   "source": [
    "6. Use a while loop and input command to get output filename.\n",
    "(name the file against your name and .json)"
   ]
  },
  {
   "cell_type": "code",
   "execution_count": null,
   "metadata": {},
   "outputs": [],
   "source": []
  },
  {
   "cell_type": "markdown",
   "metadata": {},
   "source": [
    "6. Save the dictionary to json file named after your name (avoid islamic words)"
   ]
  },
  {
   "cell_type": "code",
   "execution_count": null,
   "metadata": {},
   "outputs": [],
   "source": []
  },
  {
   "cell_type": "markdown",
   "metadata": {},
   "source": []
  }
 ],
 "metadata": {
  "kernelspec": {
   "display_name": "base",
   "language": "python",
   "name": "python3"
  },
  "language_info": {
   "codemirror_mode": {
    "name": "ipython",
    "version": 3
   },
   "file_extension": ".py",
   "mimetype": "text/x-python",
   "name": "python",
   "nbconvert_exporter": "python",
   "pygments_lexer": "ipython3",
   "version": "3.11.5"
  }
 },
 "nbformat": 4,
 "nbformat_minor": 2
}
