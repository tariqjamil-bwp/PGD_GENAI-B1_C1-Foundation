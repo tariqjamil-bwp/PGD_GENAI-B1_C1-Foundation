{
 "cells": [
  {
   "cell_type": "markdown",
   "metadata": {},
   "source": [
    "CLASSES"
   ]
  },
  {
   "cell_type": "code",
   "execution_count": 2,
   "metadata": {},
   "outputs": [],
   "source": [
    "d = dict() # ={}\n",
    "L = list([1,2]) # L=[]"
   ]
  },
  {
   "cell_type": "code",
   "execution_count": 4,
   "metadata": {},
   "outputs": [
    {
     "name": "stdout",
     "output_type": "stream",
     "text": [
      "<class 'list'>\n"
     ]
    }
   ],
   "source": [
    "print(type(L))"
   ]
  },
  {
   "cell_type": "code",
   "execution_count": 30,
   "metadata": {},
   "outputs": [],
   "source": [
    "class Dog:\n",
    "    _legs = 4\n",
    "    # Constructor\n",
    "    def __init__(self, name, age):\n",
    "        self.name = name\n",
    "        if self.name=='':\n",
    "            self.name='Rover'\n",
    "\n",
    "        self.age = age\n",
    "        if self.age > 20:\n",
    "            self.age =20\n",
    "\n",
    "    def age_mult(self):\n",
    "        self.age *= 5\n",
    "    \n",
    "    ## setter function\n",
    "    def setAge(self,age):\n",
    "        self.age = age\n",
    "\n",
    "    def prt(self):\n",
    "        print(self.name, self.age)\n",
    "\n",
    "    def speak(self):\n",
    "        print(self.name, 'Wouf wouf')\n"
   ]
  },
  {
   "cell_type": "code",
   "execution_count": 31,
   "metadata": {},
   "outputs": [
    {
     "name": "stdout",
     "output_type": "stream",
     "text": [
      "Rover 20\n"
     ]
    }
   ],
   "source": [
    "# instantiation: mDog : Instance or Object of Dog Class\n",
    "myDog = Dog('', 30)\n",
    "\n",
    "print(myDog.name, myDog.age)"
   ]
  },
  {
   "cell_type": "code",
   "execution_count": 26,
   "metadata": {},
   "outputs": [
    {
     "name": "stdout",
     "output_type": "stream",
     "text": [
      "Rover 100\n"
     ]
    }
   ],
   "source": [
    "myDog.age_mult()\n",
    "\n",
    "print(myDog.name, myDog.age)\n"
   ]
  },
  {
   "cell_type": "code",
   "execution_count": 27,
   "metadata": {},
   "outputs": [],
   "source": [
    "myDog.age = 30"
   ]
  },
  {
   "cell_type": "code",
   "execution_count": 28,
   "metadata": {},
   "outputs": [
    {
     "data": {
      "text/plain": [
       "30"
      ]
     },
     "execution_count": 28,
     "metadata": {},
     "output_type": "execute_result"
    }
   ],
   "source": [
    "myDog.age"
   ]
  },
  {
   "cell_type": "code",
   "execution_count": 33,
   "metadata": {},
   "outputs": [
    {
     "data": {
      "text/plain": [
       "4"
      ]
     },
     "execution_count": 33,
     "metadata": {},
     "output_type": "execute_result"
    }
   ],
   "source": [
    "myDog._legs"
   ]
  },
  {
   "cell_type": "code",
   "execution_count": null,
   "metadata": {},
   "outputs": [],
   "source": [
    "myDog.name"
   ]
  },
  {
   "cell_type": "markdown",
   "metadata": {},
   "source": [
    "GETTERS AND SETTERS"
   ]
  },
  {
   "cell_type": "code",
   "execution_count": 35,
   "metadata": {},
   "outputs": [],
   "source": [
    "class Dog2:\n",
    "    #class attributes\n",
    "    _legs=4    # static variables   (these are implementation details subject to change without notice)\n",
    "    \n",
    "    # instance attributes\n",
    "    def __init__(self, name, age) -> None:\n",
    "        self.name = name\n",
    "        self.age = age\n",
    "\n",
    "    def speak(self):\n",
    "        print(self.name, 'Wouf wouf')\n",
    "\n",
    "    def getLegs(self):\n",
    "        return self._legs\n",
    "        #return Dog._legs\n",
    "    \n",
    "    def setLegs(self, legs):\n",
    "        self._legs = legs"
   ]
  },
  {
   "cell_type": "code",
   "execution_count": 36,
   "metadata": {},
   "outputs": [],
   "source": [
    "myDog2 = Dog2('Sheru', 3)\n"
   ]
  },
  {
   "cell_type": "code",
   "execution_count": 37,
   "metadata": {},
   "outputs": [
    {
     "data": {
      "text/plain": [
       "4"
      ]
     },
     "execution_count": 37,
     "metadata": {},
     "output_type": "execute_result"
    }
   ],
   "source": [
    "myDog2.getLegs()"
   ]
  },
  {
   "cell_type": "code",
   "execution_count": null,
   "metadata": {},
   "outputs": [],
   "source": [
    "myDog2.setLegs(3)"
   ]
  },
  {
   "cell_type": "code",
   "execution_count": null,
   "metadata": {},
   "outputs": [],
   "source": [
    "myDog2.getLegs()"
   ]
  },
  {
   "cell_type": "code",
   "execution_count": 63,
   "metadata": {},
   "outputs": [],
   "source": [
    "class WordSet:\n",
    "    def __init__(self) -> None:\n",
    "        self.words = set()\n",
    "\n",
    "    def addText(self, text):\n",
    "        text = WordSet.cleanText(text)\n",
    "        for word in text.split():\n",
    "            self.words.add(word)\n",
    "            \n",
    "    def cleanText(text):  # static method (used internally, no self parameter)\n",
    "        text = text.replace('!', '').replace('.','').replace(',', '').replace('-', '')   # chaining of methods\n",
    "        #text = text.replace('.','')\n",
    "        #text = text.replace(',', '')\n",
    "        return text.lower()\n"
   ]
  },
  {
   "cell_type": "code",
   "execution_count": 65,
   "metadata": {},
   "outputs": [],
   "source": [
    "my_words = WordSet()\n",
    "\n",
    "my_words.addText(\"This is Python's class, and this is becoming difficult!\")\n",
    "my_words.addText('I like the class too much..., like-a-')\n",
    "\n",
    "#my_words.words"
   ]
  },
  {
   "cell_type": "code",
   "execution_count": 66,
   "metadata": {},
   "outputs": [
    {
     "data": {
      "text/plain": [
       "{'and',\n",
       " 'becoming',\n",
       " 'class',\n",
       " 'difficult',\n",
       " 'i',\n",
       " 'is',\n",
       " 'like',\n",
       " 'likea',\n",
       " 'much',\n",
       " \"python's\",\n",
       " 'the',\n",
       " 'this',\n",
       " 'too'}"
      ]
     },
     "execution_count": 66,
     "metadata": {},
     "output_type": "execute_result"
    }
   ],
   "source": [
    "my_words.words"
   ]
  },
  {
   "cell_type": "code",
   "execution_count": 67,
   "metadata": {},
   "outputs": [],
   "source": [
    "class WordSet2:\n",
    "    def __init__(self) -> None:\n",
    "        self.words = set()\n",
    "\n",
    "    def addText(self, text):\n",
    "        text = WordSet.cleanText(text)\n",
    "        for word in text.split():\n",
    "            self.words.add(word)\n",
    "            \n",
    "    def cleanText(text):  # static method (used internally, no self parameter)\n",
    "        punc = ['!', '.', ',', \"'\", '-']\n",
    "        for p in punc:\n",
    "            text = text.replace(p, '')\n",
    "        return text.lower()\n",
    "    \n"
   ]
  },
  {
   "cell_type": "code",
   "execution_count": 68,
   "metadata": {},
   "outputs": [
    {
     "data": {
      "text/plain": [
       "{'and',\n",
       " 'becoming',\n",
       " 'class',\n",
       " 'difficult',\n",
       " 'i',\n",
       " 'is',\n",
       " 'like',\n",
       " 'much',\n",
       " \"python's\",\n",
       " 'the',\n",
       " 'this',\n",
       " 'too'}"
      ]
     },
     "execution_count": 68,
     "metadata": {},
     "output_type": "execute_result"
    }
   ],
   "source": [
    "my_words = WordSet()\n",
    "my_words.addText(\"This is Python's class, and this is becoming difficult!\")\n",
    "my_words.addText('I like the class too much.')\n",
    "\n",
    "my_words.words"
   ]
  },
  {
   "cell_type": "markdown",
   "metadata": {},
   "source": [
    "INHERETENCE"
   ]
  },
  {
   "cell_type": "code",
   "execution_count": 71,
   "metadata": {},
   "outputs": [],
   "source": [
    "class kutta(Dog):\n",
    "    def speak(self):\n",
    "        print(f\"{self.name} barks like bah bah\")\n",
    "        "
   ]
  },
  {
   "cell_type": "code",
   "execution_count": 73,
   "metadata": {},
   "outputs": [
    {
     "name": "stdout",
     "output_type": "stream",
     "text": [
      "teddy Wouf wouf\n"
     ]
    }
   ],
   "source": [
    "teddy = kutta('teddy', 3)\n",
    "teddy.speak()"
   ]
  },
  {
   "cell_type": "markdown",
   "metadata": {},
   "source": [
    "Extending Builtin Classes"
   ]
  },
  {
   "cell_type": "code",
   "execution_count": 75,
   "metadata": {},
   "outputs": [],
   "source": [
    "myList = list()\n",
    "\n",
    "class UniqueList(list):\n",
    "    def __init__(self):\n",
    "        super().__init__()\n",
    "        self.type = 'UniqueList'\n",
    "    \n",
    "    def append(self, item):\n",
    "        if item in self:\n",
    "            return\n",
    "        super().append(item)\n",
    "    \n",
    "    def __doc__(self):\n",
    "        print(self)"
   ]
  },
  {
   "cell_type": "code",
   "execution_count": 76,
   "metadata": {},
   "outputs": [],
   "source": [
    "myUniqueList=UniqueList()\n",
    "\n",
    "myUniqueList.append(1)\n",
    "myUniqueList.append(1)\n",
    "myUniqueList.append(4)\n"
   ]
  },
  {
   "cell_type": "code",
   "execution_count": 78,
   "metadata": {},
   "outputs": [
    {
     "data": {
      "text/plain": [
       "[1, 4]"
      ]
     },
     "execution_count": 78,
     "metadata": {},
     "output_type": "execute_result"
    }
   ],
   "source": [
    "myUniqueList"
   ]
  },
  {
   "cell_type": "markdown",
   "metadata": {},
   "source": [
    "A natural real example"
   ]
  },
  {
   "cell_type": "code",
   "execution_count": 99,
   "metadata": {},
   "outputs": [],
   "source": [
    "class Animal:\n",
    "    def __init__(self, species):\n",
    "        self.species = species\n",
    "\n",
    "    def make_sound(self):\n",
    "        print(\"Some generic animal sound\")"
   ]
  },
  {
   "cell_type": "code",
   "execution_count": 94,
   "metadata": {},
   "outputs": [
    {
     "name": "stdout",
     "output_type": "stream",
     "text": [
      "Mammal\n",
      "Some generic animal sound\n"
     ]
    }
   ],
   "source": [
    "animal_instance = Animal(\"Mammal\")\n",
    "\n",
    "print(animal_instance.species)\n",
    "animal_instance.make_sound()"
   ]
  },
  {
   "cell_type": "code",
   "execution_count": 102,
   "metadata": {},
   "outputs": [],
   "source": [
    "class Lion(Animal):\n",
    "    def __init__(self, species, breed):\n",
    "        super().__init__(species)\n",
    "        self.breed = breed\n",
    "\n",
    "    def make_sound(self):\n",
    "        print(\"Ghour!\")"
   ]
  },
  {
   "cell_type": "code",
   "execution_count": 103,
   "metadata": {},
   "outputs": [
    {
     "name": "stdout",
     "output_type": "stream",
     "text": [
      "Lions\n",
      "Lions of Multan\n",
      "Ghour!\n"
     ]
    }
   ],
   "source": [
    "lion_instance = Lion(\"Lions\", \"Lions of Multan\")\n",
    "print(lion_instance.species)\n",
    "print(lion_instance.breed)\n",
    "lion_instance.make_sound()"
   ]
  },
  {
   "cell_type": "code",
   "execution_count": 104,
   "metadata": {},
   "outputs": [],
   "source": [
    "class BengalTiger(Lion):\n",
    "    def __init__(self, species, breed, color='Dark Brown'):\n",
    "        super().__init__(species, breed)\n",
    "        self.color = color\n",
    "\n",
    "    def circus_property(self):\n",
    "        print(\"Circus property exist\")"
   ]
  },
  {
   "cell_type": "code",
   "execution_count": 106,
   "metadata": {},
   "outputs": [
    {
     "name": "stdout",
     "output_type": "stream",
     "text": [
      "lion\n",
      "bengal tiger\n",
      "brown\n",
      "Ghour!\n",
      "Circus property exist\n"
     ]
    }
   ],
   "source": [
    "bengal_tiger_instance = BengalTiger('lion', 'bengal tiger', 'brown')\n",
    "\n",
    "print(bengal_tiger_instance.species)\n",
    "print(bengal_tiger_instance.breed)\n",
    "print(bengal_tiger_instance.color)\n",
    "bengal_tiger_instance.make_sound()\n",
    "bengal_tiger_instance.circus_property()\n"
   ]
  },
  {
   "cell_type": "code",
   "execution_count": null,
   "metadata": {},
   "outputs": [],
   "source": []
  }
 ],
 "metadata": {
  "kernelspec": {
   "display_name": "Python 3",
   "language": "python",
   "name": "python3"
  },
  "language_info": {
   "codemirror_mode": {
    "name": "ipython",
    "version": 3
   },
   "file_extension": ".py",
   "mimetype": "text/x-python",
   "name": "python",
   "nbconvert_exporter": "python",
   "pygments_lexer": "ipython3",
   "version": "3.9.18"
  }
 },
 "nbformat": 4,
 "nbformat_minor": 2
}
