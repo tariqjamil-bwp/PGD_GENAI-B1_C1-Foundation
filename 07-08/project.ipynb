{
 "cells": [
  {
   "cell_type": "code",
   "execution_count": 5,
   "id": "d9d61740",
   "metadata": {
    "tags": []
   },
   "outputs": [],
   "source": [
    "import json\n",
    "import os"
   ]
  },
  {
   "cell_type": "code",
   "execution_count": 7,
   "id": "74524f42",
   "metadata": {
    "tags": []
   },
   "outputs": [],
   "source": [
    "with open(\"currency.json\") as f:\n",
    "    data = json.load(f)"
   ]
  },
  {
   "cell_type": "code",
   "execution_count": 8,
   "id": "adb39fe1-eb6c-4cd2-a7d5-40a4ab3f1c0c",
   "metadata": {
    "tags": []
   },
   "outputs": [
    {
     "data": {
      "text/plain": [
       "dict"
      ]
     },
     "execution_count": 8,
     "metadata": {},
     "output_type": "execute_result"
    }
   ],
   "source": [
    "type(data)"
   ]
  },
  {
   "cell_type": "code",
   "execution_count": 11,
   "id": "ed6886f1-6baa-4325-aea6-02d98f326c2f",
   "metadata": {
    "tags": []
   },
   "outputs": [
    {
     "name": "stdout",
     "output_type": "stream",
     "text": [
      "{'CAD': 0.81, 'EUR': 1.17, 'GBP': 1.41, 'JPY': 0.0091, 'AUD': 0.73, 'CHF': 1.09, 'CNY': 0.16, 'SEK': 0.12, 'NZD': 0.68, 'MXN': 0.05, 'SGD': 0.74, 'HKD': 0.13, 'NOK': 0.11, 'KRW': 0.0009, 'INR': 0.014, 'BRL': 0.19, 'RUB': 0.014, 'ZAR': 0.069, 'TRY': 0.11, 'AED': 0.27, 'PLN': 0.26}\n"
     ]
    }
   ],
   "source": [
    "print(data)"
   ]
  },
  {
   "cell_type": "code",
   "execution_count": 12,
   "id": "930fc6a5",
   "metadata": {
    "tags": []
   },
   "outputs": [],
   "source": [
    "json_data = json.dumps(data)"
   ]
  },
  {
   "cell_type": "code",
   "execution_count": 14,
   "id": "fa48d423-2307-4365-89af-063772bee096",
   "metadata": {
    "tags": []
   },
   "outputs": [
    {
     "data": {
      "text/plain": [
       "str"
      ]
     },
     "execution_count": 14,
     "metadata": {},
     "output_type": "execute_result"
    }
   ],
   "source": [
    "type(json_data)"
   ]
  },
  {
   "cell_type": "code",
   "execution_count": 16,
   "id": "93fc4914",
   "metadata": {
    "tags": []
   },
   "outputs": [],
   "source": [
    "#json.loads(json_data)"
   ]
  },
  {
   "cell_type": "code",
   "execution_count": null,
   "id": "8777ffee",
   "metadata": {},
   "outputs": [],
   "source": [
    "#loads() is to load from string, similarly dumps() is to dump to string"
   ]
  },
  {
   "cell_type": "markdown",
   "id": "318d5f83",
   "metadata": {},
   "source": [
    "# API (Application Program interface)"
   ]
  },
  {
   "cell_type": "code",
   "execution_count": 50,
   "id": "e533001e",
   "metadata": {
    "tags": []
   },
   "outputs": [],
   "source": [
    "url =  \"https://api.exchangerate-api.com/v4/latest/USD\""
   ]
  },
  {
   "cell_type": "code",
   "execution_count": 51,
   "id": "87654ec3",
   "metadata": {
    "tags": []
   },
   "outputs": [],
   "source": [
    "import requests"
   ]
  },
  {
   "cell_type": "code",
   "execution_count": 62,
   "id": "96462f93",
   "metadata": {
    "tags": []
   },
   "outputs": [],
   "source": [
    "response = requests.get(url)  # will get response from web API"
   ]
  },
  {
   "cell_type": "code",
   "execution_count": 63,
   "id": "5081e5f0-8086-4d5c-a507-103d63215088",
   "metadata": {
    "tags": []
   },
   "outputs": [],
   "source": [
    "#dir(response)"
   ]
  },
  {
   "cell_type": "code",
   "execution_count": 64,
   "id": "732098ad-d815-4b2b-8c71-76ce9b60d745",
   "metadata": {
    "tags": []
   },
   "outputs": [
    {
     "data": {
      "text/plain": [
       "requests.models.Response"
      ]
     },
     "execution_count": 64,
     "metadata": {},
     "output_type": "execute_result"
    }
   ],
   "source": [
    "type(response)"
   ]
  },
  {
   "cell_type": "code",
   "execution_count": 65,
   "id": "5a047bc8",
   "metadata": {
    "tags": []
   },
   "outputs": [
    {
     "data": {
      "text/plain": [
       "200"
      ]
     },
     "execution_count": 65,
     "metadata": {},
     "output_type": "execute_result"
    }
   ],
   "source": [
    "response.status_code"
   ]
  },
  {
   "cell_type": "code",
   "execution_count": 66,
   "id": "143691c9",
   "metadata": {
    "tags": []
   },
   "outputs": [],
   "source": [
    "exch = response.json()"
   ]
  },
  {
   "cell_type": "code",
   "execution_count": 67,
   "id": "b0558891-c2a7-41db-9899-15f20a3cc848",
   "metadata": {
    "tags": []
   },
   "outputs": [
    {
     "data": {
      "text/plain": [
       "dict"
      ]
     },
     "execution_count": 67,
     "metadata": {},
     "output_type": "execute_result"
    }
   ],
   "source": [
    "type(exch)"
   ]
  },
  {
   "cell_type": "code",
   "execution_count": 68,
   "id": "983bddf9",
   "metadata": {
    "tags": []
   },
   "outputs": [
    {
     "data": {
      "text/plain": [
       "dict_keys(['provider', 'WARNING_UPGRADE_TO_V6', 'terms', 'base', 'date', 'time_last_updated', 'rates'])"
      ]
     },
     "execution_count": 68,
     "metadata": {},
     "output_type": "execute_result"
    }
   ],
   "source": [
    "exch.keys()"
   ]
  },
  {
   "cell_type": "code",
   "execution_count": 71,
   "id": "efc4227b",
   "metadata": {
    "tags": []
   },
   "outputs": [
    {
     "name": "stdout",
     "output_type": "stream",
     "text": [
      "{'USD': 1, 'AED': 3.67, 'AFN': 73.04, 'ALL': 95.82, 'AMD': 404.44, 'ANG': 1.79, 'AOA': 836.95, 'ARS': 823.55, 'AUD': 1.52, 'AWG': 1.79, 'AZN': 1.7, 'BAM': 1.8, 'BBD': 2, 'BDT': 109.62, 'BGN': 1.8, 'BHD': 0.376, 'BIF': 2842.16, 'BMD': 1, 'BND': 1.34, 'BOB': 6.89, 'BRL': 4.91, 'BSD': 1, 'BTN': 83.15, 'BWP': 13.67, 'BYN': 3.21, 'BZD': 2, 'CAD': 1.35, 'CDF': 2697.6, 'CHF': 0.864, 'CLP': 909.75, 'CNY': 7.18, 'COP': 3947.87, 'CRC': 513.66, 'CUP': 24, 'CVE': 101.59, 'CZK': 22.81, 'DJF': 177.72, 'DKK': 6.87, 'DOP': 58.1, 'DZD': 134.14, 'EGP': 30.87, 'ERN': 15, 'ETB': 56.65, 'EUR': 0.921, 'FJD': 2.24, 'FKP': 0.787, 'FOK': 6.87, 'GBP': 0.787, 'GEL': 2.67, 'GGP': 0.787, 'GHS': 12.38, 'GIP': 0.787, 'GMD': 65.2, 'GNF': 8585.5, 'GTQ': 7.78, 'GYD': 209.44, 'HKD': 7.82, 'HNL': 24.54, 'HRK': 6.94, 'HTG': 131.6, 'HUF': 356.22, 'IDR': 15791.92, 'ILS': 3.69, 'IMP': 0.787, 'INR': 83.15, 'IQD': 1309.23, 'IRR': 42011.88, 'ISK': 136.48, 'JEP': 0.787, 'JMD': 155.71, 'JOD': 0.709, 'JPY': 147.92, 'KES': 162.67, 'KGS': 89.3, 'KHR': 4091.17, 'KID': 1.52, 'KMF': 453.28, 'KRW': 1335.13, 'KWD': 0.307, 'KYD': 0.833, 'KZT': 448.92, 'LAK': 20506.22, 'LBP': 15000, 'LKR': 317.8, 'LRD': 191.01, 'LSL': 18.79, 'LYD': 4.82, 'MAD': 9.97, 'MDL': 17.73, 'MGA': 4531.37, 'MKD': 56.74, 'MMK': 2091.57, 'MNT': 3425.1, 'MOP': 8.05, 'MRU': 39.92, 'MUR': 45.06, 'MVR': 15.44, 'MWK': 1692.75, 'MXN': 17.17, 'MYR': 4.73, 'MZN': 63.89, 'NAD': 18.79, 'NGN': 891.86, 'NIO': 36.43, 'NOK': 10.42, 'NPR': 133.04, 'NZD': 1.64, 'OMR': 0.384, 'PAB': 1, 'PEN': 3.77, 'PGK': 3.72, 'PHP': 56.38, 'PKR': 279.66, 'PLN': 4.03, 'PYG': 7291.8, 'QAR': 3.64, 'RON': 4.58, 'RSD': 107.87, 'RUB': 89.91, 'RWF': 1310.23, 'SAR': 3.75, 'SBD': 8.43, 'SCR': 14.17, 'SDG': 509.04, 'SEK': 10.44, 'SGD': 1.34, 'SHP': 0.787, 'SLE': 22.48, 'SLL': 22479.91, 'SOS': 571.54, 'SRD': 37.01, 'SSP': 1104.35, 'STN': 22.57, 'SYP': 12833.07, 'SZL': 18.79, 'THB': 35.65, 'TJS': 10.93, 'TMT': 3.5, 'TND': 3.11, 'TOP': 2.34, 'TRY': 30.33, 'TTD': 6.71, 'TVD': 1.52, 'TWD': 31.23, 'TZS': 2521.81, 'UAH': 37.77, 'UGX': 3808.55, 'UYU': 38.74, 'UZS': 12372.69, 'VES': 36.2, 'VND': 24571.63, 'VUV': 120.06, 'WST': 2.73, 'XAF': 604.38, 'XCD': 2.7, 'XDR': 0.753, 'XOF': 604.38, 'XPF': 109.95, 'YER': 248.86, 'ZAR': 18.79, 'ZMW': 26.85, 'ZWL': 9678.29}\n"
     ]
    }
   ],
   "source": [
    "print(exch['rates'])"
   ]
  },
  {
   "cell_type": "code",
   "execution_count": 73,
   "id": "35ea9217-a7d3-485d-89ec-1d92ee199e0a",
   "metadata": {
    "tags": []
   },
   "outputs": [
    {
     "data": {
      "text/plain": [
       "279.66"
      ]
     },
     "execution_count": 73,
     "metadata": {},
     "output_type": "execute_result"
    }
   ],
   "source": [
    "usd = exch['rates']\n",
    "pkr = usd['PKR']\n",
    "pkr"
   ]
  },
  {
   "cell_type": "code",
   "execution_count": null,
   "id": "c518a0c7-4bfc-415f-b63d-642312107ad9",
   "metadata": {},
   "outputs": [],
   "source": []
  },
  {
   "cell_type": "markdown",
   "id": "03422709-1a5c-4cae-a755-6a7cf8f6bcfe",
   "metadata": {},
   "source": [
    "code to know the currency rate of any w.r.t. PKR "
   ]
  },
  {
   "cell_type": "code",
   "execution_count": 74,
   "id": "85e63874",
   "metadata": {
    "tags": []
   },
   "outputs": [
    {
     "name": "stdout",
     "output_type": "stream",
     "text": [
      "USD to PKR rate: 279.66\n",
      "PKR to PKR rate: 1\n",
      "INR to PKR rate: 3.36\n",
      "AFN to PKR rate: 3.8\n"
     ]
    }
   ],
   "source": [
    "c_code = [\"USD\", \"PKR\", \"INR\", \"AFN\"]\n",
    "\n",
    "for code in c_code:\n",
    "    url =  f\"https://api.exchangerate-api.com/v4/latest/{code}\"\n",
    "    response = requests.get(url)\n",
    "    #print(response.json())\n",
    "    rate = response.json()['rates']['PKR']\n",
    "    print(f'{code} to PKR rate: {rate}')"
   ]
  },
  {
   "cell_type": "markdown",
   "id": "8d4b1e49-d3d5-4b04-b82c-2614674d0b5c",
   "metadata": {},
   "source": [
    "payload = {\"id\": \"abc@gmail.com\",\n",
    "          \"pw\":\"1235de\",\n",
    "          \"folder\":\"Khaliq_folder\"}\n",
    "\n",
    "requests.post(url, json = payload) # python object converted to json\n",
    "requests.post(url, data = payload) # Json object already in json"
   ]
  },
  {
   "cell_type": "code",
   "execution_count": null,
   "id": "20761518",
   "metadata": {},
   "outputs": [],
   "source": [
    "#url= \"https://api.exchangerate-api.com/v4/latest/?param=USD&param2=PKR&\"   # query parameters ?param=...&param2=..."
   ]
  },
  {
   "cell_type": "markdown",
   "id": "b9608ce2",
   "metadata": {},
   "source": [
    "cur = \"PKR\"\n",
    "base = \"USD\"\n",
    "\n",
    "\n",
    "payload = f'{\"To\": {base}, \"From\":{cur}, \"amount\":100}'"
   ]
  },
  {
   "cell_type": "markdown",
   "id": "2baa0938-3143-40e1-a843-73992729418e",
   "metadata": {
    "tags": []
   },
   "source": [
    "cur = \"PKR\"\n",
    "base = \"USD\"\n",
    "\n",
    "payload = f'{{\"To\": {base}, \"From\":{cur}, \"amount\":100}}'    #f-string with dictionary has double brackets..{{}}"
   ]
  },
  {
   "cell_type": "markdown",
   "id": "794dc61f-3320-464a-b172-001fe6f1a847",
   "metadata": {
    "tags": []
   },
   "source": [
    "# json format is required for transmission to API\n",
    "payload"
   ]
  },
  {
   "cell_type": "markdown",
   "id": "42be16a2",
   "metadata": {},
   "source": [
    "Creating Function"
   ]
  },
  {
   "cell_type": "code",
   "execution_count": 75,
   "id": "96adfb29",
   "metadata": {
    "tags": []
   },
   "outputs": [],
   "source": [
    "url =  \"https://api.exchangerate-api.com/v4/latest/PKR\"\n",
    "\n",
    "def curr_conv(amount_pkr, Target_curr):   # parameter is when defined, passed is input value is argument\n",
    "    response = requests.get(url)\n",
    "    data = response.json()\n",
    "    # amount = 100\n",
    "    # converstion_currency = \"GBP\"\n",
    "    conv = data[\"rates\"][Target_curr]*amount_pkr\n",
    "    return f'PKR {amount_pkr} is equivalent to: {conv:3.3f} {Target_curr}'"
   ]
  },
  {
   "cell_type": "code",
   "execution_count": 76,
   "id": "3c58daef",
   "metadata": {
    "tags": []
   },
   "outputs": [
    {
     "data": {
      "text/plain": [
       "'PKR 10000 is equivalent to: 48.200 CAD'"
      ]
     },
     "execution_count": 76,
     "metadata": {},
     "output_type": "execute_result"
    }
   ],
   "source": [
    "curr_conv(10000, \"CAD\")"
   ]
  },
  {
   "cell_type": "code",
   "execution_count": 79,
   "id": "4731dd66",
   "metadata": {
    "tags": []
   },
   "outputs": [
    {
     "data": {
      "text/plain": [
       "'PKR 100000 is equivalent to: 358.000 USD'"
      ]
     },
     "execution_count": 79,
     "metadata": {},
     "output_type": "execute_result"
    }
   ],
   "source": [
    "curr_conv(100000, \"USD\")"
   ]
  },
  {
   "cell_type": "markdown",
   "id": "64761288",
   "metadata": {},
   "source": [
    "USING Currency cenversion"
   ]
  },
  {
   "cell_type": "code",
   "execution_count": 85,
   "id": "7522b4bf",
   "metadata": {
    "tags": []
   },
   "outputs": [],
   "source": [
    "try:\n",
    "    file_path = \"sales.json\"\n",
    "    with open(file_path) as file_object:\n",
    "        sales = json.load(file_object)\n",
    "    \n",
    "except FileNotFoundError:\n",
    "    print(f\"The file '{file_path}' is not found.\")\n",
    "except Exception as e:\n",
    "    print(f\"An error occurred: {e}\")"
   ]
  },
  {
   "cell_type": "code",
   "execution_count": 86,
   "id": "224ac72e-0eea-4336-9455-fe3e44700d07",
   "metadata": {
    "tags": []
   },
   "outputs": [
    {
     "data": {
      "text/plain": [
       "{'3942': {'purchase_total': 100.5, 'currency': 'CAD'},\n",
       " '8791': {'purchase_total': 75.25, 'currency': 'EUR'},\n",
       " '5623': {'purchase_total': 50.75, 'currency': 'GBP'},\n",
       " '1234': {'purchase_total': 200.1, 'currency': 'USD'},\n",
       " '5678': {'purchase_total': 150.75, 'currency': 'JPY'},\n",
       " '9876': {'purchase_total': 300.5, 'currency': 'CAD'},\n",
       " '2457': {'purchase_total': 80.0, 'currency': 'USD'},\n",
       " '7365': {'purchase_total': 55.25, 'currency': 'GBP'},\n",
       " '8910': {'purchase_total': 120.6, 'currency': 'CAD'},\n",
       " '4321': {'purchase_total': 180.25, 'currency': 'EUR'},\n",
       " '6789': {'purchase_total': 90.75, 'currency': 'JPY'},\n",
       " '5432': {'purchase_total': 250.9, 'currency': 'USD'},\n",
       " '1098': {'purchase_total': 70.25, 'currency': 'GBP'},\n",
       " '3647': {'purchase_total': 140.5, 'currency': 'CAD'},\n",
       " '2190': {'purchase_total': 95.8, 'currency': 'EUR'},\n",
       " '8765': {'purchase_total': 180.75, 'currency': 'JPY'},\n",
       " '9875': {'purchase_total': 210.25, 'currency': 'USD'},\n",
       " '1342': {'purchase_total': 65.5, 'currency': 'GBP'},\n",
       " '7690': {'purchase_total': 110.2, 'currency': 'CAD'},\n",
       " '2389': {'purchase_total': 155.35, 'currency': 'EUR'},\n",
       " '6574': {'purchase_total': 80.75, 'currency': 'JPY'},\n",
       " '9832': {'purchase_total': 280.4, 'currency': 'USD'},\n",
       " '3257': {'purchase_total': 60.25, 'currency': 'GBP'},\n",
       " '7194': {'purchase_total': 130.75, 'currency': 'CAD'},\n",
       " '8746': {'purchase_total': 175.9, 'currency': 'EUR'},\n",
       " '2019': {'purchase_total': 85.75, 'currency': 'JPY'},\n",
       " '5437': {'purchase_total': 195.25, 'currency': 'USD'},\n",
       " '1025': {'purchase_total': 50.5, 'currency': 'GBP'},\n",
       " '6932': {'purchase_total': 120.3, 'currency': 'CAD'}}"
      ]
     },
     "execution_count": 86,
     "metadata": {},
     "output_type": "execute_result"
    }
   ],
   "source": [
    "sales"
   ]
  },
  {
   "cell_type": "code",
   "execution_count": null,
   "id": "86fc14ba",
   "metadata": {
    "tags": []
   },
   "outputs": [],
   "source": [
    "# wrap in function"
   ]
  },
  {
   "cell_type": "code",
   "execution_count": 87,
   "id": "24c5dea6",
   "metadata": {
    "tags": []
   },
   "outputs": [
    {
     "data": {
      "text/plain": [
       "dict_keys(['3942', '8791', '5623', '1234', '5678', '9876', '2457', '7365', '8910', '4321', '6789', '5432', '1098', '3647', '2190', '8765', '9875', '1342', '7690', '2389', '6574', '9832', '3257', '7194', '8746', '2019', '5437', '1025', '6932'])"
      ]
     },
     "execution_count": 87,
     "metadata": {},
     "output_type": "execute_result"
    }
   ],
   "source": [
    "sales.keys()"
   ]
  },
  {
   "cell_type": "code",
   "execution_count": 90,
   "id": "98249bdb",
   "metadata": {
    "tags": []
   },
   "outputs": [
    {
     "data": {
      "text/plain": [
       "{'purchase_total': 100.5, 'currency': 'CAD'}"
      ]
     },
     "execution_count": 90,
     "metadata": {},
     "output_type": "execute_result"
    }
   ],
   "source": [
    "trans1 = sales['3942']\n",
    "trans1"
   ]
  },
  {
   "cell_type": "code",
   "execution_count": 95,
   "id": "5ef95178",
   "metadata": {
    "tags": []
   },
   "outputs": [],
   "source": [
    "pt = trans1['purchase_total']\n",
    "cr = trans1['currency']"
   ]
  },
  {
   "cell_type": "code",
   "execution_count": 92,
   "id": "d408443d",
   "metadata": {
    "tags": []
   },
   "outputs": [
    {
     "data": {
      "text/plain": [
       "(100.5, 'CAD')"
      ]
     },
     "execution_count": 92,
     "metadata": {},
     "output_type": "execute_result"
    }
   ],
   "source": [
    "pt, cr"
   ]
  },
  {
   "cell_type": "code",
   "execution_count": 102,
   "id": "e3892889",
   "metadata": {
    "tags": []
   },
   "outputs": [],
   "source": [
    "url =  \"https://api.exchangerate-api.com/v4/latest/USD\"\n",
    "\n",
    "def curr_conv_usd(curr, amount):   # parameter is when defined, passed is input value is argument\n",
    "    response = requests.get(url)\n",
    "    data = response.json()\n",
    "    conv = amount / data[\"rates\"][curr]\n",
    "    #print(conv)\n",
    "    return conv\n"
   ]
  },
  {
   "cell_type": "code",
   "execution_count": 103,
   "id": "01ac9cb9-1931-4611-b2e7-d95cb52507e6",
   "metadata": {
    "tags": []
   },
   "outputs": [
    {
     "data": {
      "text/plain": [
       "74.44444444444444"
      ]
     },
     "execution_count": 103,
     "metadata": {},
     "output_type": "execute_result"
    }
   ],
   "source": [
    "curr_conv_usd(cr, pt)"
   ]
  },
  {
   "cell_type": "code",
   "execution_count": 142,
   "id": "c6d628ff-c008-43d2-8902-3ccae6972647",
   "metadata": {
    "tags": []
   },
   "outputs": [],
   "source": [
    "def aggregate_sale(sales):\n",
    "    total = 0\n",
    "    for transaction in sales.values():\n",
    "        #print('value=',v)\n",
    "        pt = transaction['purchase_total']\n",
    "        cr = transaction['currency']\n",
    "        print(pt, cr, end=' -> ')\n",
    "        usd = curr_conv_usd(cr, pt)\n",
    "        print(usd)\n",
    "        \n",
    "        # summing\n",
    "        total += usd\n",
    "    \n",
    "    print(f\"Total={total:6.2f}\")"
   ]
  },
  {
   "cell_type": "code",
   "execution_count": 143,
   "id": "60a032a1-ae6b-47af-a4a9-10336f41c463",
   "metadata": {
    "tags": []
   },
   "outputs": [
    {
     "name": "stdout",
     "output_type": "stream",
     "text": [
      "100.5 CAD -> 74.44444444444444\n",
      "75.25 EUR -> 81.70466883821932\n",
      "50.75 GBP -> 64.4853875476493\n",
      "200.1 USD -> 200.1\n",
      "150.75 JPY -> 1.019131963223364\n",
      "300.5 CAD -> 222.59259259259258\n",
      "80.0 USD -> 80.0\n",
      "55.25 GBP -> 70.20330368487929\n",
      "120.6 CAD -> 89.33333333333333\n",
      "180.25 EUR -> 195.71118349619977\n",
      "90.75 JPY -> 0.6135073012439157\n",
      "250.9 USD -> 250.9\n",
      "70.25 GBP -> 89.26302414231257\n",
      "140.5 CAD -> 104.07407407407406\n",
      "95.8 EUR -> 104.01737242128121\n",
      "180.75 JPY -> 1.2219442942130883\n",
      "210.25 USD -> 210.25\n",
      "65.5 GBP -> 83.2274459974587\n",
      "110.2 CAD -> 81.62962962962963\n",
      "155.35 EUR -> 168.67535287730726\n",
      "80.75 JPY -> 0.5459031909140076\n",
      "280.4 USD -> 280.4\n",
      "60.25 GBP -> 76.55654383735705\n",
      "130.75 CAD -> 96.85185185185185\n",
      "175.9 EUR -> 190.98805646036917\n",
      "85.75 JPY -> 0.5797052460789617\n",
      "195.25 USD -> 195.25\n",
      "50.5 GBP -> 64.16772554002542\n",
      "120.3 CAD -> 89.1111111111111\n",
      "Total=3167.92\n"
     ]
    }
   ],
   "source": [
    "aggregate_sale(sales)"
   ]
  },
  {
   "cell_type": "markdown",
   "id": "96714350-d3c8-494c-8df5-0cc060bdbde1",
   "metadata": {
    "tags": []
   },
   "source": [
    "Fuunction to PKR conversion"
   ]
  },
  {
   "cell_type": "raw",
   "id": "eb96e778-6595-44af-a2e8-5d352ab9582a",
   "metadata": {},
   "source": [
    "url =  \"https://api.exchangerate-api.com/v4/latest/USD\"\n",
    "\n",
    "def curr_conv_usd(curr, amount):   # parameter is when defined, passed is input value is argument\n",
    "    response = requests.get(url)\n",
    "    data = response.json()\n",
    "    conv = amount / data[\"rates\"][curr]\n",
    "    #print(conv)\n",
    "    return conv\n"
   ]
  },
  {
   "cell_type": "raw",
   "id": "3136a2fd-5491-4af1-a4ab-a7637835a191",
   "metadata": {},
   "source": [
    "rates = requests.get(url).json()['rates']    "
   ]
  },
  {
   "cell_type": "markdown",
   "id": "69c4a90c",
   "metadata": {},
   "source": [
    "Another example of function"
   ]
  },
  {
   "cell_type": "code",
   "execution_count": 144,
   "id": "00109244",
   "metadata": {
    "tags": []
   },
   "outputs": [],
   "source": [
    "url =  \"https://api.exchangerate-api.com/v4/latest/PKR\"\n",
    "rates = requests.get(url).json()['rates']    "
   ]
  },
  {
   "cell_type": "code",
   "execution_count": 151,
   "id": "dd2a7696-94f3-4ac8-9999-50d080b1448f",
   "metadata": {
    "tags": []
   },
   "outputs": [
    {
     "name": "stdout",
     "output_type": "stream",
     "text": [
      "{'PKR': 1, 'AED': 0.0131, 'AFN': 0.263, 'ALL': 0.345, 'AMD': 1.45, 'ANG': 0.0064, 'AOA': 3.05, 'ARS': 2.94, 'AUD': 0.00544, 'AWG': 0.0064, 'AZN': 0.00609, 'BAM': 0.00645, 'BBD': 0.00715, 'BDT': 0.392, 'BGN': 0.00645, 'BHD': 0.00134, 'BIF': 10.18, 'BMD': 0.00358, 'BND': 0.0048, 'BOB': 0.0248, 'BRL': 0.0176, 'BSD': 0.00358, 'BTN': 0.298, 'BWP': 0.0489, 'BYN': 0.0114, 'BZD': 0.00715, 'CAD': 0.00482, 'CDF': 9.82, 'CHF': 0.00309, 'CLP': 3.28, 'CNY': 0.0257, 'COP': 14.22, 'CRC': 1.85, 'CUP': 0.0858, 'CVE': 0.364, 'CZK': 0.0818, 'DJF': 0.635, 'DKK': 0.0246, 'DOP': 0.209, 'DZD': 0.483, 'EGP': 0.11, 'ERN': 0.0536, 'ETB': 0.202, 'EUR': 0.0033, 'FJD': 0.00808, 'FKP': 0.00282, 'FOK': 0.0246, 'GBP': 0.00282, 'GEL': 0.00954, 'GGP': 0.00282, 'GHS': 0.0434, 'GIP': 0.00282, 'GMD': 0.241, 'GNF': 30.61, 'GTQ': 0.028, 'GYD': 0.748, 'HKD': 0.028, 'HNL': 0.0884, 'HRK': 0.0249, 'HTG': 0.472, 'HUF': 1.27, 'IDR': 56.88, 'ILS': 0.0133, 'IMP': 0.00282, 'INR': 0.298, 'IQD': 4.68, 'IRR': 154.08, 'ISK': 0.486, 'JEP': 0.00282, 'JMD': 0.557, 'JOD': 0.00254, 'JPY': 0.53, 'KES': 0.576, 'KGS': 0.319, 'KHR': 14.62, 'KID': 0.00544, 'KMF': 1.62, 'KRW': 4.79, 'KWD': 0.0011, 'KYD': 0.00298, 'KZT': 1.6, 'LAK': 73.83, 'LBP': 53.64, 'LKR': 1.14, 'LRD': 0.688, 'LSL': 0.0677, 'LYD': 0.0172, 'MAD': 0.0359, 'MDL': 0.0637, 'MGA': 16.19, 'MKD': 0.203, 'MMK': 7.53, 'MNT': 12.25, 'MOP': 0.0288, 'MRU': 0.143, 'MUR': 0.159, 'MVR': 0.0553, 'MWK': 6.01, 'MXN': 0.0617, 'MYR': 0.017, 'MZN': 0.228, 'NAD': 0.0677, 'NGN': 3.13, 'NIO': 0.131, 'NOK': 0.0373, 'NPR': 0.477, 'NZD': 0.00587, 'OMR': 0.00137, 'PAB': 0.00358, 'PEN': 0.0136, 'PGK': 0.0134, 'PHP': 0.202, 'PLN': 0.0144, 'PYG': 26.26, 'QAR': 0.013, 'RON': 0.0165, 'RSD': 0.388, 'RUB': 0.323, 'RWF': 4.54, 'SAR': 0.0134, 'SBD': 0.03, 'SCR': 0.0496, 'SDG': 1.82, 'SEK': 0.0373, 'SGD': 0.0048, 'SHP': 0.00282, 'SLE': 0.0804, 'SLL': 80.4, 'SOS': 2.04, 'SRD': 0.132, 'SSP': 3.94, 'STN': 0.0808, 'SYP': 46.21, 'SZL': 0.0677, 'THB': 0.128, 'TJS': 0.039, 'TMT': 0.0125, 'TND': 0.0112, 'TOP': 0.00854, 'TRY': 0.109, 'TTD': 0.0244, 'TVD': 0.00544, 'TWD': 0.112, 'TZS': 9.01, 'UAH': 0.133, 'UGX': 13.59, 'USD': 0.00358, 'UYU': 0.14, 'UZS': 44.02, 'VES': 0.129, 'VND': 88.03, 'VUV': 0.438, 'WST': 0.00984, 'XAF': 2.16, 'XCD': 0.00965, 'XDR': 0.00269, 'XOF': 2.16, 'XPF': 0.394, 'YER': 0.896, 'ZAR': 0.0677, 'ZMW': 0.0957, 'ZWL': 34.78}\n"
     ]
    }
   ],
   "source": [
    "print(rates)"
   ]
  },
  {
   "cell_type": "code",
   "execution_count": 163,
   "id": "92117d94",
   "metadata": {
    "tags": []
   },
   "outputs": [],
   "source": [
    "def aggregate_sale_pkr(sales):\n",
    "    total = 0\n",
    "    for transaction in sales.values():\n",
    "        #print('value=',v)\n",
    "        pt = transaction['purchase_total']\n",
    "        cr = transaction['currency']\n",
    "        print(pt, cr, end=' -> ')\n",
    "        pkr_value = pt / rates[cr]\n",
    "        print(pkr_value)\n",
    "    \n",
    "        # summing\n",
    "        total += pkr_value\n",
    "\n",
    "    print(f\"Total={total:12.2f}\")"
   ]
  },
  {
   "cell_type": "code",
   "execution_count": 164,
   "id": "ed60905f",
   "metadata": {
    "tags": []
   },
   "outputs": [
    {
     "name": "stdout",
     "output_type": "stream",
     "text": [
      "100.5 CAD -> 20850.622406639006\n",
      "75.25 EUR -> 22803.030303030304\n",
      "50.75 GBP -> 17996.45390070922\n",
      "200.1 USD -> 55893.85474860335\n",
      "150.75 JPY -> 284.4339622641509\n",
      "300.5 CAD -> 62344.39834024897\n",
      "80.0 USD -> 22346.3687150838\n",
      "55.25 GBP -> 19592.198581560282\n",
      "120.6 CAD -> 25020.746887966805\n",
      "180.25 EUR -> 54621.21212121212\n",
      "90.75 JPY -> 171.22641509433961\n",
      "250.9 USD -> 70083.79888268157\n",
      "70.25 GBP -> 24911.347517730497\n",
      "140.5 CAD -> 29149.377593360998\n",
      "95.8 EUR -> 29030.30303030303\n",
      "180.75 JPY -> 341.03773584905656\n",
      "210.25 USD -> 58729.05027932961\n",
      "65.5 GBP -> 23226.95035460993\n",
      "110.2 CAD -> 22863.070539419088\n",
      "155.35 EUR -> 47075.757575757576\n",
      "80.75 JPY -> 152.35849056603772\n",
      "280.4 USD -> 78324.02234636871\n",
      "60.25 GBP -> 21365.248226950356\n",
      "130.75 CAD -> 27126.55601659751\n",
      "175.9 EUR -> 53303.030303030304\n",
      "85.75 JPY -> 161.79245283018867\n",
      "195.25 USD -> 54539.1061452514\n",
      "50.5 GBP -> 17907.801418439718\n",
      "120.3 CAD -> 24958.50622406639\n",
      "Total=   885173.66\n"
     ]
    }
   ],
   "source": [
    "aggregate_sale_pkr(sales)"
   ]
  },
  {
   "cell_type": "markdown",
   "id": "2f21d29b-3e32-4a3a-b720-88a755c67239",
   "metadata": {},
   "source": [
    "Weakest currency"
   ]
  },
  {
   "cell_type": "code",
   "execution_count": 167,
   "id": "a1df967a-a327-4c40-a3cc-5b12e5bbc34a",
   "metadata": {
    "tags": []
   },
   "outputs": [],
   "source": [
    "url =  \"https://api.exchangerate-api.com/v4/latest/USD\"\n",
    "rates = requests.get(url).json()['rates']    "
   ]
  },
  {
   "cell_type": "code",
   "execution_count": 172,
   "id": "f84807cd-4c4a-4490-a1a3-5b83c67731ea",
   "metadata": {
    "tags": []
   },
   "outputs": [
    {
     "name": "stdout",
     "output_type": "stream",
     "text": [
      "{'USD': 1, 'AED': 3.67, 'AFN': 73.04, 'ALL': 95.82, 'AMD': 404.44, 'ANG': 1.79, 'AOA': 836.95, 'ARS': 823.55, 'AUD': 1.52, 'AWG': 1.79, 'AZN': 1.7, 'BAM': 1.8, 'BBD': 2, 'BDT': 109.62, 'BGN': 1.8, 'BHD': 0.376, 'BIF': 2842.16, 'BMD': 1, 'BND': 1.34, 'BOB': 6.89, 'BRL': 4.91, 'BSD': 1, 'BTN': 83.15, 'BWP': 13.67, 'BYN': 3.21, 'BZD': 2, 'CAD': 1.35, 'CDF': 2697.6, 'CHF': 0.864, 'CLP': 909.75, 'CNY': 7.18, 'COP': 3947.87, 'CRC': 513.66, 'CUP': 24, 'CVE': 101.59, 'CZK': 22.81, 'DJF': 177.72, 'DKK': 6.87, 'DOP': 58.1, 'DZD': 134.14, 'EGP': 30.87, 'ERN': 15, 'ETB': 56.65, 'EUR': 0.921, 'FJD': 2.24, 'FKP': 0.787, 'FOK': 6.87, 'GBP': 0.787, 'GEL': 2.67, 'GGP': 0.787, 'GHS': 12.38, 'GIP': 0.787, 'GMD': 65.2, 'GNF': 8585.5, 'GTQ': 7.78, 'GYD': 209.44, 'HKD': 7.82, 'HNL': 24.54, 'HRK': 6.94, 'HTG': 131.6, 'HUF': 356.22, 'IDR': 15791.92, 'ILS': 3.69, 'IMP': 0.787, 'INR': 83.15, 'IQD': 1309.23, 'IRR': 42011.88, 'ISK': 136.48, 'JEP': 0.787, 'JMD': 155.71, 'JOD': 0.709, 'JPY': 147.92, 'KES': 162.67, 'KGS': 89.3, 'KHR': 4091.17, 'KID': 1.52, 'KMF': 453.28, 'KRW': 1335.13, 'KWD': 0.307, 'KYD': 0.833, 'KZT': 448.92, 'LAK': 20506.22, 'LBP': 15000, 'LKR': 317.8, 'LRD': 191.01, 'LSL': 18.79, 'LYD': 4.82, 'MAD': 9.97, 'MDL': 17.73, 'MGA': 4531.37, 'MKD': 56.74, 'MMK': 2091.57, 'MNT': 3425.1, 'MOP': 8.05, 'MRU': 39.92, 'MUR': 45.06, 'MVR': 15.44, 'MWK': 1692.75, 'MXN': 17.17, 'MYR': 4.73, 'MZN': 63.89, 'NAD': 18.79, 'NGN': 891.86, 'NIO': 36.43, 'NOK': 10.42, 'NPR': 133.04, 'NZD': 1.64, 'OMR': 0.384, 'PAB': 1, 'PEN': 3.77, 'PGK': 3.72, 'PHP': 56.38, 'PKR': 279.66, 'PLN': 4.03, 'PYG': 7291.8, 'QAR': 3.64, 'RON': 4.58, 'RSD': 107.87, 'RUB': 89.91, 'RWF': 1310.23, 'SAR': 3.75, 'SBD': 8.43, 'SCR': 14.17, 'SDG': 509.04, 'SEK': 10.44, 'SGD': 1.34, 'SHP': 0.787, 'SLE': 22.48, 'SLL': 22479.91, 'SOS': 571.54, 'SRD': 37.01, 'SSP': 1104.35, 'STN': 22.57, 'SYP': 12833.07, 'SZL': 18.79, 'THB': 35.65, 'TJS': 10.93, 'TMT': 3.5, 'TND': 3.11, 'TOP': 2.34, 'TRY': 30.33, 'TTD': 6.71, 'TVD': 1.52, 'TWD': 31.23, 'TZS': 2521.81, 'UAH': 37.77, 'UGX': 3808.55, 'UYU': 38.74, 'UZS': 12372.69, 'VES': 36.2, 'VND': 24571.63, 'VUV': 120.06, 'WST': 2.73, 'XAF': 604.38, 'XCD': 2.7, 'XDR': 0.753, 'XOF': 604.38, 'XPF': 109.95, 'YER': 248.86, 'ZAR': 18.79, 'ZMW': 26.85, 'ZWL': 9678.29}\n"
     ]
    }
   ],
   "source": [
    "print(rates)"
   ]
  },
  {
   "cell_type": "code",
   "execution_count": 180,
   "id": "5ae0f135-440e-4b8a-b700-be2a7f0fd910",
   "metadata": {
    "tags": []
   },
   "outputs": [
    {
     "name": "stdout",
     "output_type": "stream",
     "text": [
      "42011.88 IRR\n"
     ]
    }
   ],
   "source": [
    "weak_rate = 0\n",
    "weak_name = ''\n",
    "\n",
    "for k,v in rates.items():\n",
    "    #print(k,v)\n",
    "    if v > weak_rate:\n",
    "        weak_rate=v\n",
    "        weak_name=k\n",
    "        \n",
    "print(weak_rate, weak_name)"
   ]
  },
  {
   "cell_type": "code",
   "execution_count": 184,
   "id": "cac44138",
   "metadata": {
    "tags": []
   },
   "outputs": [
    {
     "name": "stdout",
     "output_type": "stream",
     "text": [
      "10\n"
     ]
    }
   ],
   "source": [
    "#checking dictionary keys\n",
    "curr = 'PKRa'\n",
    "#print(rates[curr])\n",
    "print(rates.get(curr, 10))"
   ]
  },
  {
   "cell_type": "markdown",
   "id": "657112cb",
   "metadata": {},
   "source": [
    "better / precise way"
   ]
  },
  {
   "cell_type": "code",
   "execution_count": 189,
   "id": "1367a926",
   "metadata": {
    "tags": []
   },
   "outputs": [
    {
     "data": {
      "text/plain": [
       "('IRR', 42011.88)"
      ]
     },
     "execution_count": 189,
     "metadata": {},
     "output_type": "execute_result"
    }
   ],
   "source": [
    "max_rates_key = max(rates, key=rates.get)    # max on values() 'rates.get'  and returns Key\n",
    "max_rates_val = rates[max_rates_key]\n",
    "\n",
    "max_rates_key, max_rates_val"
   ]
  },
  {
   "cell_type": "code",
   "execution_count": 188,
   "id": "31457707-f7ee-4bf9-b557-91ba8a0ce729",
   "metadata": {
    "tags": []
   },
   "outputs": [
    {
     "data": {
      "text/plain": [
       "'IRR'"
      ]
     },
     "execution_count": 188,
     "metadata": {},
     "output_type": "execute_result"
    }
   ],
   "source": [
    "max_rates_key"
   ]
  },
  {
   "cell_type": "code",
   "execution_count": null,
   "id": "e885bb17-b63e-421b-a469-c1d8ee1ccb96",
   "metadata": {},
   "outputs": [],
   "source": []
  }
 ],
 "metadata": {
  "kernelspec": {
   "display_name": "Python 3 (ipykernel)",
   "language": "python",
   "name": "python3"
  },
  "language_info": {
   "codemirror_mode": {
    "name": "ipython",
    "version": 3
   },
   "file_extension": ".py",
   "mimetype": "text/x-python",
   "name": "python",
   "nbconvert_exporter": "python",
   "pygments_lexer": "ipython3",
   "version": "3.11.5"
  }
 },
 "nbformat": 4,
 "nbformat_minor": 5
}
