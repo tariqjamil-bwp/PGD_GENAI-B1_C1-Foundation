{
 "cells": [
  {
   "cell_type": "code",
   "execution_count": null,
   "id": "d9d61740",
   "metadata": {},
   "outputs": [],
   "source": [
    "import json"
   ]
  },
  {
   "cell_type": "code",
   "execution_count": null,
   "id": "74524f42",
   "metadata": {},
   "outputs": [],
   "source": [
    "with open(\"currency.json\") as f:\n",
    "    data = json.load(f)"
   ]
  },
  {
   "cell_type": "code",
   "execution_count": null,
   "id": "930fc6a5",
   "metadata": {},
   "outputs": [],
   "source": [
    "json_data = json.dumps(data)\n",
    "json_data"
   ]
  },
  {
   "cell_type": "code",
   "execution_count": null,
   "id": "93fc4914",
   "metadata": {},
   "outputs": [],
   "source": [
    "json.loads(json_data)"
   ]
  },
  {
   "cell_type": "code",
   "execution_count": null,
   "id": "8777ffee",
   "metadata": {},
   "outputs": [],
   "source": [
    "#loads() is to load from string, similarly dumps() is to dump from string"
   ]
  },
  {
   "cell_type": "markdown",
   "id": "318d5f83",
   "metadata": {},
   "source": [
    "# API (Application Program interface)"
   ]
  },
  {
   "cell_type": "code",
   "execution_count": null,
   "id": "e533001e",
   "metadata": {},
   "outputs": [],
   "source": [
    "url =  \"https://api.exchangerate-api.com/v4/latest/USD\""
   ]
  },
  {
   "cell_type": "code",
   "execution_count": null,
   "id": "87654ec3",
   "metadata": {},
   "outputs": [],
   "source": [
    "import requests"
   ]
  },
  {
   "cell_type": "code",
   "execution_count": null,
   "id": "96462f93",
   "metadata": {},
   "outputs": [],
   "source": [
    "response = requests.get(url)"
   ]
  },
  {
   "cell_type": "code",
   "execution_count": null,
   "id": "5a047bc8",
   "metadata": {},
   "outputs": [],
   "source": [
    "response.status_code"
   ]
  },
  {
   "cell_type": "code",
   "execution_count": null,
   "id": "143691c9",
   "metadata": {},
   "outputs": [],
   "source": [
    "usd = response.json()"
   ]
  },
  {
   "cell_type": "code",
   "execution_count": null,
   "id": "983bddf9",
   "metadata": {},
   "outputs": [],
   "source": [
    "usd.keys()"
   ]
  },
  {
   "cell_type": "code",
   "execution_count": null,
   "id": "efc4227b",
   "metadata": {},
   "outputs": [],
   "source": [
    "pkr = usd['rates']['PKR']"
   ]
  },
  {
   "cell_type": "code",
   "execution_count": null,
   "id": "64d87ad0",
   "metadata": {},
   "outputs": [],
   "source": [
    "print('USD to PKR: ', pkr)"
   ]
  },
  {
   "cell_type": "code",
   "execution_count": null,
   "id": "85e63874",
   "metadata": {},
   "outputs": [],
   "source": [
    "c_code = [\"USD\", \"PKR\", \"CAD\"]\n",
    "\n",
    "for code in c_code:\n",
    "    url =  f\"https://api.exchangerate-api.com/v4/latest/{code}\"\n",
    "    response = requests.get(url)\n",
    "    #print(response.json())\n",
    "    rate = response.json()['rates']['PKR']\n",
    "    print(f'{code} to PKR rate: {rate}')\n",
    "    print(\"\\n\")"
   ]
  },
  {
   "cell_type": "code",
   "execution_count": null,
   "id": "8ccccaf7",
   "metadata": {},
   "outputs": [],
   "source": [
    "payload = {\"id\": \"abc@gmail.com\",\n",
    "          \"pw\":\"1235de\",\n",
    "          \"folder\":\"Waqas_folder\"}\n",
    "\n",
    "requests.post(url, json = payload) # python object converted to json\n",
    "\n",
    "\n",
    "requests.post(url, data = payload) # Json object already in json"
   ]
  },
  {
   "cell_type": "code",
   "execution_count": null,
   "id": "20761518",
   "metadata": {},
   "outputs": [],
   "source": [
    "url= \"https://api.exchangerate-api.com/v4/latest/?param=USD&param2=PKR&\"   # query parameters ?param=...&param2=..."
   ]
  },
  {
   "cell_type": "markdown",
   "id": "b9608ce2",
   "metadata": {},
   "source": [
    "cur = \"PKR\"\n",
    "base = \"USD\"\n",
    "\n",
    "\n",
    "payload = f'{\"To\": {base}, \"From\":{cur}, \"amount\":100}'"
   ]
  },
  {
   "cell_type": "code",
   "execution_count": null,
   "id": "43df9dd9",
   "metadata": {},
   "outputs": [],
   "source": [
    "cur = \"PKR\"\n",
    "base = \"USD\"\n",
    "\n",
    "\n",
    "payload = f'{{\"To\": {base}, \"From\":{cur}, \"amount\":100}}'    #f-string with dictionary has double brackets..{{}}"
   ]
  },
  {
   "cell_type": "code",
   "execution_count": null,
   "id": "3eb64cb7",
   "metadata": {},
   "outputs": [],
   "source": [
    "# json format is required for transmission to API\n",
    "payload"
   ]
  },
  {
   "cell_type": "markdown",
   "id": "42be16a2",
   "metadata": {},
   "source": [
    "NEW Lecture"
   ]
  },
  {
   "cell_type": "code",
   "execution_count": null,
   "id": "96adfb29",
   "metadata": {},
   "outputs": [],
   "source": [
    "def curr_conv(amount_usd, Target_curr):   # parameter is when defined, passed is input value is argument\n",
    "    response = requests.get(url)\n",
    "    data = response.json()\n",
    "    # amount = 100\n",
    "    # converstion_currency = \"GBP\"\n",
    "    conv = data[\"rates\"][Target_curr]*amount_usd\n",
    "    return f'USD {amount_usd} is equivalent to: {conv:3.3f} {Target_curr}'"
   ]
  },
  {
   "cell_type": "code",
   "execution_count": null,
   "id": "3c58daef",
   "metadata": {},
   "outputs": [],
   "source": [
    "curr_conv(255, \"CAD\")"
   ]
  },
  {
   "cell_type": "code",
   "execution_count": null,
   "id": "4731dd66",
   "metadata": {},
   "outputs": [],
   "source": [
    "curr_conv(1, \"PKR\")"
   ]
  },
  {
   "cell_type": "markdown",
   "id": "64761288",
   "metadata": {},
   "source": [
    "USING Currency cenversion"
   ]
  },
  {
   "cell_type": "code",
   "execution_count": null,
   "id": "7522b4bf",
   "metadata": {},
   "outputs": [],
   "source": [
    "with open(\"sales.json\") as f:\n",
    "    sales = json.load(f)"
   ]
  },
  {
   "cell_type": "code",
   "execution_count": null,
   "id": "3d7abac8",
   "metadata": {},
   "outputs": [],
   "source": [
    "type(sales)"
   ]
  },
  {
   "cell_type": "code",
   "execution_count": null,
   "id": "65fbe9e3",
   "metadata": {},
   "outputs": [],
   "source": [
    "sales"
   ]
  },
  {
   "cell_type": "code",
   "execution_count": null,
   "id": "cc50d6fa",
   "metadata": {},
   "outputs": [],
   "source": [
    "len(sales)"
   ]
  },
  {
   "cell_type": "code",
   "execution_count": null,
   "id": "a8aa6db1",
   "metadata": {},
   "outputs": [],
   "source": [
    "for v in sales.values():\n",
    "    purchase_total = v['purchase_total']\n",
    "    currency = v['currency']\n",
    "    \n",
    "    print(purchase_total, currency)"
   ]
  },
  {
   "cell_type": "code",
   "execution_count": null,
   "id": "2eb2d3e6",
   "metadata": {},
   "outputs": [],
   "source": [
    "total_sales_usd = 0\n",
    "for v in sales.values():\n",
    "    purchase_total = v['purchase_total']\n",
    "    currency = v['currency']\n",
    "    \n",
    "#     data = requests.get(url).json()\n",
    "    exc_rates = data[\"rates\"][currency]\n",
    "    \n",
    "    usd_amount = purchase_total/exc_rates\n",
    "    \n",
    "    total_sales_usd += usd_amount"
   ]
  },
  {
   "cell_type": "code",
   "execution_count": null,
   "id": "86fc14ba",
   "metadata": {},
   "outputs": [],
   "source": [
    "total_sales_usd"
   ]
  },
  {
   "cell_type": "code",
   "execution_count": null,
   "id": "24c5dea6",
   "metadata": {},
   "outputs": [],
   "source": [
    "def usd_sales():\n",
    "\n",
    "    total_sales_usd = 0\n",
    "    for v in sales.values():\n",
    "        purchase_total = v['purchase_total']\n",
    "        currency = v['currency']\n",
    "\n",
    "    #     data = requests.get(url).json()\n",
    "        exc_rates = data[\"rates\"][currency]\n",
    "\n",
    "        usd_amount = purchase_total/exc_rates\n",
    "\n",
    "        total_sales_usd += usd_amount\n",
    "    return total_sales_usd  "
   ]
  },
  {
   "cell_type": "code",
   "execution_count": null,
   "id": "98249bdb",
   "metadata": {},
   "outputs": [],
   "source": [
    "usd_sales()"
   ]
  },
  {
   "cell_type": "code",
   "execution_count": null,
   "id": "852c445e",
   "metadata": {},
   "outputs": [],
   "source": [
    "def usd_sales(reporting_curr, ):\n",
    "    \n",
    "    \"\"\"\n",
    "    This is build to produce a total sales in reporting currency\n",
    "    \"\"\"\n",
    "\n",
    "    total_sales_usd = 0\n",
    "    for v in sales.values():\n",
    "        purchase_total = v['purchase_total']\n",
    "        currency = v['currency']\n",
    "\n",
    "    #     data = requests.get(url).json()\n",
    "        exc_rates = data[\"rates\"][currency]\n",
    "\n",
    "        usd_amount = purchase_total/exc_rates\n",
    "\n",
    "        total_sales_usd += usd_amount\n",
    "    return total_sales_usd  "
   ]
  },
  {
   "cell_type": "code",
   "execution_count": null,
   "id": "5ef95178",
   "metadata": {},
   "outputs": [],
   "source": [
    "usd_sales(\"CAD\")"
   ]
  },
  {
   "cell_type": "code",
   "execution_count": null,
   "id": "d408443d",
   "metadata": {},
   "outputs": [],
   "source": [
    "usd_sales.__doc__"
   ]
  },
  {
   "cell_type": "code",
   "execution_count": null,
   "id": "e3892889",
   "metadata": {},
   "outputs": [],
   "source": [
    "print(type.__doc__)"
   ]
  },
  {
   "cell_type": "markdown",
   "id": "69c4a90c",
   "metadata": {},
   "source": [
    "Another example of function"
   ]
  },
  {
   "cell_type": "code",
   "execution_count": null,
   "id": "00109244",
   "metadata": {},
   "outputs": [],
   "source": [
    "rates = requests.get(url).json()['rates']    "
   ]
  },
  {
   "cell_type": "code",
   "execution_count": null,
   "id": "1d7e5bce",
   "metadata": {},
   "outputs": [],
   "source": [
    "rates.items()"
   ]
  },
  {
   "cell_type": "code",
   "execution_count": null,
   "id": "92117d94",
   "metadata": {},
   "outputs": [],
   "source": [
    "weakest_rates = 0\n",
    "weakest_cou_code = \"\"\n",
    "\n",
    "rates = data[\"rates\"]\n",
    "\n",
    "for count_code, exch  in rates.items():\n",
    "    \n",
    "    if weakest_rates < exch:\n",
    "    \n",
    "        weakest_rates = exch\n",
    "        weakest_cou_code = count_code"
   ]
  },
  {
   "cell_type": "code",
   "execution_count": null,
   "id": "ed60905f",
   "metadata": {},
   "outputs": [],
   "source": [
    "weakest_rates, weakest_cou_code"
   ]
  },
  {
   "cell_type": "code",
   "execution_count": null,
   "id": "95bc118f",
   "metadata": {},
   "outputs": [],
   "source": [
    "rates"
   ]
  },
  {
   "cell_type": "code",
   "execution_count": null,
   "id": "cac44138",
   "metadata": {},
   "outputs": [],
   "source": [
    "curr = 'CAD'\n",
    "print(rates[curr])\n",
    "print(rates.get(curr))"
   ]
  },
  {
   "cell_type": "markdown",
   "id": "657112cb",
   "metadata": {},
   "source": [
    "precise way"
   ]
  },
  {
   "cell_type": "code",
   "execution_count": null,
   "id": "1367a926",
   "metadata": {},
   "outputs": [],
   "source": [
    "max_val_key = max(rates, key = rates.get)    # max on values() 'rates.get'  and returns Key\n",
    "max_val = rates[max_val_key]\n",
    "\n",
    "max_val_key, max_val"
   ]
  }
 ],
 "metadata": {
  "kernelspec": {
   "display_name": "Python 3 (ipykernel)",
   "language": "python",
   "name": "python3"
  },
  "language_info": {
   "codemirror_mode": {
    "name": "ipython",
    "version": 3
   },
   "file_extension": ".py",
   "mimetype": "text/x-python",
   "name": "python",
   "nbconvert_exporter": "python",
   "pygments_lexer": "ipython3",
   "version": "3.9.0"
  }
 },
 "nbformat": 4,
 "nbformat_minor": 5
}
