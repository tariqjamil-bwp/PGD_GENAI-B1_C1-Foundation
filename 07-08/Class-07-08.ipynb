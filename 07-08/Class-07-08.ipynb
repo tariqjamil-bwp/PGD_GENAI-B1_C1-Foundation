{
 "cells": [
  {
   "cell_type": "markdown",
   "metadata": {},
   "source": [
    "## RECAP"
   ]
  },
  {
   "cell_type": "markdown",
   "metadata": {},
   "source": [
    "* List, Dict, If statement, For Loop\n",
    "* While Loop (discuss)\n",
    "* Functions with unlimited number of parameters\n",
    "* %, mod , //\n",
    "* Operator Precedence # PEMDAS"
   ]
  },
  {
   "cell_type": "code",
   "execution_count": 1,
   "metadata": {
    "tags": []
   },
   "outputs": [
    {
     "name": "stdout",
     "output_type": "stream",
     "text": [
      "0\n",
      "1\n",
      "2\n",
      "3\n",
      "4\n",
      "5\n",
      "6\n",
      "7\n",
      "8\n",
      "9\n"
     ]
    }
   ],
   "source": [
    "for i in range(10):\n",
    "    print(i)"
   ]
  },
  {
   "cell_type": "markdown",
   "metadata": {},
   "source": [
    "While loop typically used for conditional exit"
   ]
  },
  {
   "cell_type": "code",
   "execution_count": 9,
   "metadata": {
    "tags": []
   },
   "outputs": [
    {
     "name": "stdin",
     "output_type": "stream",
     "text": [
      "please enter value: 2\n"
     ]
    },
    {
     "name": "stdout",
     "output_type": "stream",
     "text": [
      "2 2\n"
     ]
    },
    {
     "name": "stdin",
     "output_type": "stream",
     "text": [
      "please enter value: 3\n"
     ]
    },
    {
     "name": "stdout",
     "output_type": "stream",
     "text": [
      "3 3\n"
     ]
    },
    {
     "name": "stdin",
     "output_type": "stream",
     "text": [
      "please enter value: 4\n"
     ]
    },
    {
     "name": "stdout",
     "output_type": "stream",
     "text": [
      "4 4\n"
     ]
    },
    {
     "name": "stdin",
     "output_type": "stream",
     "text": [
      "please enter value: q\n"
     ]
    },
    {
     "name": "stdout",
     "output_type": "stream",
     "text": [
      "q q\n",
      "\n",
      "\n",
      "out of loop\n"
     ]
    }
   ],
   "source": [
    "x = 'q'\n",
    "while x != 'Q':\n",
    "    a = input('please enter value:')\n",
    "    print(a,a)\n",
    "    x = a.upper()\n",
    "\n",
    "print()\n",
    "print('\\n\\nout of loop')"
   ]
  },
  {
   "cell_type": "code",
   "execution_count": 19,
   "metadata": {
    "tags": []
   },
   "outputs": [],
   "source": [
    "def add(a,b, *c):\n",
    "    z = a+b\n",
    "    print(c, type(c))\n",
    "    for i in list(c):\n",
    "        z = z+c\n",
    "    return z"
   ]
  },
  {
   "cell_type": "code",
   "execution_count": 21,
   "metadata": {
    "tags": []
   },
   "outputs": [],
   "source": [
    "#add(2,4,3)"
   ]
  },
  {
   "cell_type": "markdown",
   "metadata": {},
   "source": [
    "Modulus operator, //"
   ]
  },
  {
   "cell_type": "code",
   "execution_count": 23,
   "metadata": {
    "tags": []
   },
   "outputs": [
    {
     "data": {
      "text/plain": [
       "1.75"
      ]
     },
     "execution_count": 23,
     "metadata": {},
     "output_type": "execute_result"
    }
   ],
   "source": [
    "7/4"
   ]
  },
  {
   "cell_type": "code",
   "execution_count": 26,
   "metadata": {
    "tags": []
   },
   "outputs": [
    {
     "name": "stdout",
     "output_type": "stream",
     "text": [
      "1, 3/4\n"
     ]
    }
   ],
   "source": [
    "print(f\"{7//4}, {7%4}/4\")"
   ]
  },
  {
   "cell_type": "markdown",
   "metadata": {},
   "source": [
    "Opertaor Precedence (PEMDAS)"
   ]
  },
  {
   "cell_type": "code",
   "execution_count": 27,
   "metadata": {
    "tags": []
   },
   "outputs": [
    {
     "data": {
      "text/plain": [
       "55.0"
      ]
     },
     "execution_count": 27,
     "metadata": {},
     "output_type": "execute_result"
    }
   ],
   "source": [
    "(1+2)**3*10/5+3-2"
   ]
  },
  {
   "cell_type": "markdown",
   "metadata": {},
   "source": [
    "## CLASS 07"
   ]
  },
  {
   "cell_type": "markdown",
   "metadata": {},
   "source": [
    "### FILE IO"
   ]
  },
  {
   "cell_type": "code",
   "execution_count": null,
   "metadata": {},
   "outputs": [],
   "source": [
    "# file paths, setting a folder as default directory\n",
    "# use of pathlib\n",
    "# opening of dile using with open('abc.txt') as file:\n",
    "# readidng files contents using file.read()\n",
    "# reading file line-by-line using 'line in file'\n",
    "# reading lines without looping using file.readlines()\n",
    "# file access modes: 'r', 'w', 'a', 'r+'\n",
    "# use of str()"
   ]
  },
  {
   "cell_type": "code",
   "execution_count": null,
   "metadata": {},
   "outputs": [],
   "source": [
    "#work_root = \"c:\\\\GENAI\\\\07\\\\\"\n",
    "sample.txt\n"
   ]
  },
  {
   "cell_type": "code",
   "execution_count": 38,
   "metadata": {
    "tags": []
   },
   "outputs": [
    {
     "data": {
      "text/plain": [
       "'/home/tjamil/NED_PGD/PGD-GenAI-B1'"
      ]
     },
     "execution_count": 38,
     "metadata": {},
     "output_type": "execute_result"
    }
   ],
   "source": [
    "import os\n",
    "#dir(os)\n",
    "os.getcwd()"
   ]
  },
  {
   "cell_type": "code",
   "execution_count": 39,
   "metadata": {
    "tags": []
   },
   "outputs": [],
   "source": [
    "work_root = '/home/tjamil/NED_PGD/PGD-GenAI-B1/07-08'"
   ]
  },
  {
   "cell_type": "code",
   "execution_count": 40,
   "metadata": {
    "tags": []
   },
   "outputs": [],
   "source": [
    "os.chdir(work_root)"
   ]
  },
  {
   "cell_type": "code",
   "execution_count": 41,
   "metadata": {
    "tags": []
   },
   "outputs": [
    {
     "name": "stdout",
     "output_type": "stream",
     "text": [
      "Class-07-08.ipynb  currency.json  project.ipynb  sample_data.csv  sample.txt\n"
     ]
    }
   ],
   "source": [
    "!ls"
   ]
  },
  {
   "cell_type": "code",
   "execution_count": 42,
   "metadata": {
    "tags": []
   },
   "outputs": [],
   "source": [
    "file_name = 'sample.txt'\n",
    "with open(file_name, 'r') as file_object:\n",
    "    contents = file_object.read()   # read all contents using .read\n",
    "    \n"
   ]
  },
  {
   "cell_type": "code",
   "execution_count": 44,
   "metadata": {
    "tags": []
   },
   "outputs": [
    {
     "data": {
      "text/plain": [
       "str"
      ]
     },
     "execution_count": 44,
     "metadata": {},
     "output_type": "execute_result"
    }
   ],
   "source": [
    "contents"
   ]
  },
  {
   "cell_type": "code",
   "execution_count": 49,
   "metadata": {
    "tags": []
   },
   "outputs": [],
   "source": [
    "file_name = 'sample.txt'\n",
    "with open(file_name, 'r') as file_object:\n",
    "    lines = file_object.readlines()   # read all contents using .read"
   ]
  },
  {
   "cell_type": "code",
   "execution_count": 50,
   "metadata": {
    "tags": []
   },
   "outputs": [
    {
     "data": {
      "text/plain": [
       "['This is class 7\\n',\n",
       " 'Today is Saturday 27 Jan 2024\\n',\n",
       " 'Class started at 2pm']"
      ]
     },
     "execution_count": 50,
     "metadata": {},
     "output_type": "execute_result"
    }
   ],
   "source": [
    "lines"
   ]
  },
  {
   "cell_type": "code",
   "execution_count": 54,
   "metadata": {
    "tags": []
   },
   "outputs": [],
   "source": [
    "file_name = 'sample.txt'\n",
    "with open(file_name, 'a') as file_object:\n",
    "    file_object.write('\\nend of file') "
   ]
  },
  {
   "cell_type": "code",
   "execution_count": 55,
   "metadata": {
    "tags": []
   },
   "outputs": [
    {
     "name": "stdout",
     "output_type": "stream",
     "text": [
      "This is class 7\n",
      "Today is Saturday 27 Jan 2024\n",
      "Class started at 2pmend of file\n",
      "end of file\n"
     ]
    }
   ],
   "source": [
    "file_name = 'sample.txt'\n",
    "with open(file_name, 'r') as file_object:\n",
    "    contents = file_object.read() \n",
    "\n",
    "print(contents)"
   ]
  },
  {
   "cell_type": "code",
   "execution_count": 56,
   "metadata": {
    "tags": []
   },
   "outputs": [],
   "source": [
    "file_name = 'sample2.txt'\n",
    "with open(file_name, 'w') as file_object:\n",
    "    file_object.write(contents) \n",
    "\n",
    "    "
   ]
  },
  {
   "cell_type": "code",
   "execution_count": 62,
   "metadata": {
    "tags": []
   },
   "outputs": [],
   "source": [
    "listA = ['Tomorrow is class 8\\n', \n",
    " 'It will be sunday 28 Jan 2024\\n',\n",
    " 'Class will started at 2pm\\n',\n",
    " 'end of file\\n']"
   ]
  },
  {
   "cell_type": "code",
   "execution_count": 64,
   "metadata": {
    "tags": []
   },
   "outputs": [],
   "source": [
    "file_name = 'sample3.txt'\n",
    "with open(file_name, 'w') as file_object:\n",
    "    file_object.writelines(listA) \n",
    "#TBD"
   ]
  },
  {
   "cell_type": "markdown",
   "metadata": {},
   "source": [
    "### JSON FILES (Java Script Object Notation)\n",
    "stores data structures as is"
   ]
  },
  {
   "cell_type": "code",
   "execution_count": null,
   "metadata": {},
   "outputs": [],
   "source": [
    "#json.read\n",
    "#json.dump\n"
   ]
  },
  {
   "cell_type": "markdown",
   "metadata": {
    "tags": []
   },
   "source": [
    "### WRITING JSON Objects to json files "
   ]
  },
  {
   "cell_type": "code",
   "execution_count": 65,
   "metadata": {
    "tags": []
   },
   "outputs": [],
   "source": [
    "import json\n",
    "A = [1,2,3,4]\n",
    "#B = {'Name': \"Dr\", 'Profession': 'Medical'}\n",
    "file_name = 'list.json'\n",
    "\n",
    "with open(file_name, 'w') as json_object:\n",
    "    #json.dump(A, json_object)\n",
    "    json.dump(A, json_object)"
   ]
  },
  {
   "cell_type": "code",
   "execution_count": 66,
   "metadata": {
    "tags": []
   },
   "outputs": [],
   "source": [
    "import json\n",
    "B = {'Name': \"Dr\", 'Profession': 'Medical'}\n",
    "file_name = 'list2.json'\n",
    "\n",
    "with open(file_name, 'w') as json_object:\n",
    "    json.dump(B, json_object)"
   ]
  },
  {
   "cell_type": "markdown",
   "metadata": {},
   "source": [
    "### Reading Json Files"
   ]
  },
  {
   "cell_type": "code",
   "execution_count": 68,
   "metadata": {
    "tags": []
   },
   "outputs": [],
   "source": [
    "file_name = 'list2.json'\n",
    "with open(file_name) as json_obj:\n",
    "    mydata = json.load(json_obj)\n"
   ]
  },
  {
   "cell_type": "code",
   "execution_count": 70,
   "metadata": {
    "tags": []
   },
   "outputs": [
    {
     "data": {
      "text/plain": [
       "{'Name': 'Dr', 'Profession': 'Medical', 'City': 'Ryadh'}"
      ]
     },
     "execution_count": 70,
     "metadata": {},
     "output_type": "execute_result"
    }
   ],
   "source": [
    "mydata"
   ]
  },
  {
   "cell_type": "code",
   "execution_count": 71,
   "metadata": {
    "tags": []
   },
   "outputs": [
    {
     "data": {
      "text/plain": [
       "'Dr'"
      ]
     },
     "execution_count": 71,
     "metadata": {},
     "output_type": "execute_result"
    }
   ],
   "source": [
    "mydata['Name']"
   ]
  },
  {
   "cell_type": "code",
   "execution_count": null,
   "metadata": {},
   "outputs": [],
   "source": [
    "\n",
    "with open('list.json') as f_obj:\n",
    "    mydata = json.load(f_obj)\n",
    "    "
   ]
  },
  {
   "cell_type": "code",
   "execution_count": null,
   "metadata": {},
   "outputs": [],
   "source": [
    "mydata"
   ]
  },
  {
   "cell_type": "markdown",
   "metadata": {},
   "source": [
    "### REFACTORING\n",
    "Making code better readable"
   ]
  },
  {
   "cell_type": "markdown",
   "metadata": {
    "tags": []
   },
   "source": [
    "def search_number(x:list, search_element):\n",
    "    '''\n",
    "    This function search an element from a list.\n",
    "    \n",
    "    Parameters:\n",
    "    x: a list containing elements to be searched\n",
    "    search_element : 'element required to be searched\n",
    "    \n",
    "    return value: True/ False, depending upon search result\n",
    "    '''\n",
    "    \n",
    "    flag = False\n",
    "    for e in x:\n",
    "        if search_element == e:\n",
    "            flag = True\n",
    "            break\n",
    "        else:\n",
    "            pass\n",
    "    \n",
    "    return flag\n",
    "            \n",
    "        "
   ]
  },
  {
   "cell_type": "code",
   "execution_count": 75,
   "metadata": {
    "tags": []
   },
   "outputs": [
    {
     "data": {
      "text/plain": [
       "False"
      ]
     },
     "execution_count": 75,
     "metadata": {},
     "output_type": "execute_result"
    }
   ],
   "source": [
    "a = [1,2,3,4,'9','10']\n",
    "search_number(a, '10')"
   ]
  },
  {
   "cell_type": "markdown",
   "metadata": {
    "tags": []
   },
   "source": [
    "### SCOPE & VISIBILITY"
   ]
  },
  {
   "cell_type": "code",
   "execution_count": 113,
   "metadata": {
    "tags": []
   },
   "outputs": [],
   "source": [
    "def search_number(x:list, search_element):\n",
    "    '''\n",
    "    This function search an element from a list.\n",
    "    \n",
    "    Parameters:\n",
    "    x: a list containing elements to be searched\n",
    "    search_element : 'element required to be searched\n",
    "    \n",
    "    return value: True/ False, depending upon search result\n",
    "    '''\n",
    "    #-----------------------------------------\n",
    "    xyz = 123\n",
    "    def check(xx, se):\n",
    "        flag = False\n",
    "        position = None\n",
    "        \n",
    "        for i,e in enumerate(xx):\n",
    "            if se == e:\n",
    "                flag = True\n",
    "                position = i\n",
    "                break\n",
    "\n",
    "            else:\n",
    "                pass\n",
    "            print(xyz)\n",
    "            \n",
    "        return flag,position\n",
    "    #--------------------------------------------\n",
    "    flag2 = False\n",
    "    if search_element in x:\n",
    "        flag2=True\n",
    "    else:\n",
    "        flag2=False\n",
    "    #--------------------------------------------\n",
    "    s, pos = check(x, search_element)\n",
    "    print(xyz)\n",
    "    assert s==flag2\n",
    "    return s, position           \n",
    "        "
   ]
  },
  {
   "cell_type": "code",
   "execution_count": 114,
   "metadata": {
    "tags": []
   },
   "outputs": [
    {
     "name": "stdout",
     "output_type": "stream",
     "text": [
      "123\n",
      "123\n",
      "123\n",
      "123\n",
      "123\n",
      "123\n"
     ]
    },
    {
     "data": {
      "text/plain": [
       "(True, 5)"
      ]
     },
     "execution_count": 114,
     "metadata": {},
     "output_type": "execute_result"
    }
   ],
   "source": [
    "a = [1,2,3,4,'9','10']\n",
    "search_number(a, '10')"
   ]
  },
  {
   "cell_type": "markdown",
   "metadata": {
    "id": "T1P2EVJvuPW6"
   },
   "source": [
    "Package Managers and Importing Packages"
   ]
  },
  {
   "cell_type": "code",
   "execution_count": null,
   "metadata": {
    "id": "tNuluoM4tgJp"
   },
   "outputs": [],
   "source": [
    "# python repositories\n",
    "# using own modules"
   ]
  },
  {
   "cell_type": "markdown",
   "metadata": {},
   "source": [
    "### ERROR/EXCEPTION HANDLING"
   ]
  },
  {
   "cell_type": "code",
   "execution_count": null,
   "metadata": {},
   "outputs": [],
   "source": [
    "# try: except: finally: blocks\n",
    "\n"
   ]
  },
  {
   "cell_type": "code",
   "execution_count": null,
   "metadata": {
    "id": "D1aTQFHsx0rc"
   },
   "outputs": [],
   "source": []
  }
 ],
 "metadata": {
  "colab": {
   "authorship_tag": "ABX9TyNSPhM37g4/5taYbEzsktXL",
   "provenance": []
  },
  "kernelspec": {
   "display_name": "Python 3 (ipykernel)",
   "language": "python",
   "name": "python3"
  },
  "language_info": {
   "codemirror_mode": {
    "name": "ipython",
    "version": 3
   },
   "file_extension": ".py",
   "mimetype": "text/x-python",
   "name": "python",
   "nbconvert_exporter": "python",
   "pygments_lexer": "ipython3",
   "version": "3.11.5"
  }
 },
 "nbformat": 4,
 "nbformat_minor": 4
}
