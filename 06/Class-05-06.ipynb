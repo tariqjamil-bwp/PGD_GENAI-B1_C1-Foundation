{
 "cells": [
  {
   "cell_type": "markdown",
   "metadata": {
    "id": "dKn1v6Hnqdeb"
   },
   "source": [
    "## CLASS 5"
   ]
  },
  {
   "cell_type": "markdown",
   "metadata": {
    "id": "5IqjIsJfumtt"
   },
   "source": [
    "use of dir"
   ]
  },
  {
   "cell_type": "code",
   "execution_count": 1,
   "metadata": {
    "id": "CYNW2EPkujsO"
   },
   "outputs": [],
   "source": [
    "a = \"I love Pakistan\""
   ]
  },
  {
   "cell_type": "code",
   "execution_count": 5,
   "metadata": {},
   "outputs": [],
   "source": [
    "b = \"\""
   ]
  },
  {
   "cell_type": "code",
   "execution_count": 3,
   "metadata": {},
   "outputs": [
    {
     "data": {
      "text/plain": [
       "'i love pakistan'"
      ]
     },
     "execution_count": 3,
     "metadata": {},
     "output_type": "execute_result"
    }
   ],
   "source": [
    "a=a.lower()"
   ]
  },
  {
   "cell_type": "code",
   "execution_count": 10,
   "metadata": {},
   "outputs": [],
   "source": [
    "b = a.replace('Pakistan', 'my school')"
   ]
  },
  {
   "cell_type": "code",
   "execution_count": 11,
   "metadata": {},
   "outputs": [
    {
     "data": {
      "text/plain": [
       "'I love my school'"
      ]
     },
     "execution_count": 11,
     "metadata": {},
     "output_type": "execute_result"
    }
   ],
   "source": [
    "b"
   ]
  },
  {
   "cell_type": "code",
   "execution_count": 12,
   "metadata": {},
   "outputs": [
    {
     "data": {
      "text/plain": [
       "['I', 'love', 'my', 'school']"
      ]
     },
     "execution_count": 12,
     "metadata": {},
     "output_type": "execute_result"
    }
   ],
   "source": [
    "b.split()"
   ]
  },
  {
   "cell_type": "code",
   "execution_count": 18,
   "metadata": {},
   "outputs": [],
   "source": [
    "c = 'My class is, in this room'"
   ]
  },
  {
   "cell_type": "code",
   "execution_count": 19,
   "metadata": {},
   "outputs": [
    {
     "data": {
      "text/plain": [
       "['My class ', ', in th\\\\', ' room']"
      ]
     },
     "execution_count": 19,
     "metadata": {},
     "output_type": "execute_result"
    }
   ],
   "source": [
    "c.split('is')"
   ]
  },
  {
   "cell_type": "code",
   "execution_count": 21,
   "metadata": {},
   "outputs": [
    {
     "data": {
      "text/plain": [
       "'xyz'"
      ]
     },
     "execution_count": 21,
     "metadata": {},
     "output_type": "execute_result"
    }
   ],
   "source": [
    "d = '    xyz   '\n",
    "d.strip()"
   ]
  },
  {
   "cell_type": "code",
   "execution_count": 22,
   "metadata": {},
   "outputs": [
    {
     "data": {
      "text/plain": [
       "['__add__',\n",
       " '__class__',\n",
       " '__contains__',\n",
       " '__delattr__',\n",
       " '__dir__',\n",
       " '__doc__',\n",
       " '__eq__',\n",
       " '__format__',\n",
       " '__ge__',\n",
       " '__getattribute__',\n",
       " '__getitem__',\n",
       " '__getnewargs__',\n",
       " '__getstate__',\n",
       " '__gt__',\n",
       " '__hash__',\n",
       " '__init__',\n",
       " '__init_subclass__',\n",
       " '__iter__',\n",
       " '__le__',\n",
       " '__len__',\n",
       " '__lt__',\n",
       " '__mod__',\n",
       " '__mul__',\n",
       " '__ne__',\n",
       " '__new__',\n",
       " '__reduce__',\n",
       " '__reduce_ex__',\n",
       " '__repr__',\n",
       " '__rmod__',\n",
       " '__rmul__',\n",
       " '__setattr__',\n",
       " '__sizeof__',\n",
       " '__str__',\n",
       " '__subclasshook__',\n",
       " 'capitalize',\n",
       " 'casefold',\n",
       " 'center',\n",
       " 'count',\n",
       " 'encode',\n",
       " 'endswith',\n",
       " 'expandtabs',\n",
       " 'find',\n",
       " 'format',\n",
       " 'format_map',\n",
       " 'index',\n",
       " 'isalnum',\n",
       " 'isalpha',\n",
       " 'isascii',\n",
       " 'isdecimal',\n",
       " 'isdigit',\n",
       " 'isidentifier',\n",
       " 'islower',\n",
       " 'isnumeric',\n",
       " 'isprintable',\n",
       " 'isspace',\n",
       " 'istitle',\n",
       " 'isupper',\n",
       " 'join',\n",
       " 'ljust',\n",
       " 'lower',\n",
       " 'lstrip',\n",
       " 'maketrans',\n",
       " 'partition',\n",
       " 'removeprefix',\n",
       " 'removesuffix',\n",
       " 'replace',\n",
       " 'rfind',\n",
       " 'rindex',\n",
       " 'rjust',\n",
       " 'rpartition',\n",
       " 'rsplit',\n",
       " 'rstrip',\n",
       " 'split',\n",
       " 'splitlines',\n",
       " 'startswith',\n",
       " 'strip',\n",
       " 'swapcase',\n",
       " 'title',\n",
       " 'translate',\n",
       " 'upper',\n",
       " 'zfill']"
      ]
     },
     "execution_count": 22,
     "metadata": {},
     "output_type": "execute_result"
    }
   ],
   "source": [
    "dir(d)"
   ]
  },
  {
   "cell_type": "markdown",
   "metadata": {
    "id": "zerQLTHOqqrf"
   },
   "source": [
    "STRING METHODS\n",
    "\n",
    "upper, lower, replace, split, strip, str, concat, +"
   ]
  },
  {
   "cell_type": "code",
   "execution_count": 4,
   "metadata": {},
   "outputs": [
    {
     "name": "stdout",
     "output_type": "stream",
     "text": [
      "<class 'str'>\n"
     ]
    }
   ],
   "source": [
    "print(type(a))"
   ]
  },
  {
   "cell_type": "code",
   "execution_count": 28,
   "metadata": {},
   "outputs": [],
   "source": [
    "#help(str)"
   ]
  },
  {
   "cell_type": "code",
   "execution_count": 33,
   "metadata": {
    "colab": {
     "base_uri": "https://localhost:8080/",
     "height": 36
    },
    "executionInfo": {
     "elapsed": 14,
     "status": "ok",
     "timestamp": 1705734435222,
     "user": {
      "displayName": "TARIQ JAMIL",
      "userId": "15811585553781902842"
     },
     "user_tz": -300
    },
    "id": "ia1AVcrerWmP",
    "outputId": "1f063eca-b70b-42d6-914a-35b0bf2f5871"
   },
   "outputs": [
    {
     "data": {
      "text/plain": [
       "'I love Pak'"
      ]
     },
     "execution_count": 33,
     "metadata": {},
     "output_type": "execute_result"
    }
   ],
   "source": [
    "a[0:10]"
   ]
  },
  {
   "cell_type": "markdown",
   "metadata": {
    "id": "dCsJodFOrVe0"
   },
   "source": [
    "LIST Instnastiation\n",
    "\n",
    "[], list(), remove, insert, append, extend, index, count, reverse, +,"
   ]
  },
  {
   "cell_type": "code",
   "execution_count": 153,
   "metadata": {
    "executionInfo": {
     "elapsed": 408,
     "status": "ok",
     "timestamp": 1705735461786,
     "user": {
      "displayName": "TARIQ JAMIL",
      "userId": "15811585553781902842"
     },
     "user_tz": -300
    },
    "id": "vQMQvmfFo0EB"
   },
   "outputs": [],
   "source": [
    "a=[1,2,3,4]\n",
    "b=[0,5,6,7]"
   ]
  },
  {
   "cell_type": "code",
   "execution_count": 159,
   "metadata": {},
   "outputs": [
    {
     "ename": "SyntaxError",
     "evalue": "invalid syntax (2073147552.py, line 1)",
     "output_type": "error",
     "traceback": [
      "\u001b[0;36m  Cell \u001b[0;32mIn[159], line 1\u001b[0;36m\u001b[0m\n\u001b[0;31m    a.extend([1,2,3],/)\u001b[0m\n\u001b[0m                     ^\u001b[0m\n\u001b[0;31mSyntaxError\u001b[0m\u001b[0;31m:\u001b[0m invalid syntax\n"
     ]
    }
   ],
   "source": [
    "a.extend([1,2,3],/)"
   ]
  },
  {
   "cell_type": "code",
   "execution_count": 155,
   "metadata": {},
   "outputs": [],
   "source": [
    "c"
   ]
  },
  {
   "cell_type": "code",
   "execution_count": 48,
   "metadata": {},
   "outputs": [],
   "source": [
    "#a.append(b)"
   ]
  },
  {
   "cell_type": "code",
   "execution_count": 50,
   "metadata": {},
   "outputs": [
    {
     "data": {
      "text/plain": [
       "[1, 2, 3, 4, [0, 5, 6, 7]]"
      ]
     },
     "execution_count": 50,
     "metadata": {},
     "output_type": "execute_result"
    }
   ],
   "source": [
    "[1,2,3,4,[0,5,6,7]]"
   ]
  },
  {
   "cell_type": "markdown",
   "metadata": {
    "id": "js5E_D4lts12"
   },
   "source": [
    "Type Casting"
   ]
  },
  {
   "cell_type": "code",
   "execution_count": 65,
   "metadata": {
    "colab": {
     "base_uri": "https://localhost:8080/"
    },
    "executionInfo": {
     "elapsed": 8,
     "status": "ok",
     "timestamp": 1705734732714,
     "user": {
      "displayName": "TARIQ JAMIL",
      "userId": "15811585553781902842"
     },
     "user_tz": -300
    },
    "id": "59fORpFoqkd8",
    "outputId": "5f0e9064-25d3-46b9-b91e-adad6568c70e"
   },
   "outputs": [],
   "source": [
    "a='1234'\n",
    "b=list(a)\n",
    "c=['1','2','3','5']"
   ]
  },
  {
   "cell_type": "code",
   "execution_count": 57,
   "metadata": {},
   "outputs": [
    {
     "data": {
      "text/plain": [
       "{1, 2, 3, 5}"
      ]
     },
     "execution_count": 57,
     "metadata": {},
     "output_type": "execute_result"
    }
   ],
   "source": [
    "d = set(c)\n",
    "d"
   ]
  },
  {
   "cell_type": "code",
   "execution_count": 59,
   "metadata": {},
   "outputs": [],
   "source": [
    "e = (1,2,3)\n",
    "f = list(e)"
   ]
  },
  {
   "cell_type": "code",
   "execution_count": 61,
   "metadata": {},
   "outputs": [],
   "source": [
    "g = tuple(f)"
   ]
  },
  {
   "cell_type": "code",
   "execution_count": 62,
   "metadata": {},
   "outputs": [
    {
     "data": {
      "text/plain": [
       "(1, 2, 3)"
      ]
     },
     "execution_count": 62,
     "metadata": {},
     "output_type": "execute_result"
    }
   ],
   "source": [
    "g"
   ]
  },
  {
   "cell_type": "code",
   "execution_count": 66,
   "metadata": {},
   "outputs": [
    {
     "data": {
      "text/plain": [
       "'1235'"
      ]
     },
     "execution_count": 66,
     "metadata": {},
     "output_type": "execute_result"
    }
   ],
   "source": [
    "''.join(c)"
   ]
  },
  {
   "cell_type": "markdown",
   "metadata": {
    "id": "IKCG5oxco2Yl"
   },
   "source": [
    "CONTROL FLOW / CONDITIONAL STATEMENT"
   ]
  },
  {
   "cell_type": "code",
   "execution_count": 78,
   "metadata": {
    "id": "u0OCOMi4o7-W"
   },
   "outputs": [
    {
     "name": "stdin",
     "output_type": "stream",
     "text": [
      "please enter some digit 95\n"
     ]
    },
    {
     "name": "stdout",
     "output_type": "stream",
     "text": [
      "Grade A\n"
     ]
    }
   ],
   "source": [
    "x = int(input('please enter some digit'))\n",
    "\n",
    "if (x > 90):\n",
    "    print('Grade A')\n",
    "elif x>80 and x <= 90:\n",
    "    print('Grade A-')\n",
    "elif x>70 and x <= 80:\n",
    "    print('Grade B')\n",
    "else:\n",
    "    print('D') "
   ]
  },
  {
   "cell_type": "code",
   "execution_count": 79,
   "metadata": {},
   "outputs": [
    {
     "data": {
      "text/plain": [
       "True"
      ]
     },
     "execution_count": 79,
     "metadata": {},
     "output_type": "execute_result"
    }
   ],
   "source": [
    "x > 90"
   ]
  },
  {
   "cell_type": "markdown",
   "metadata": {
    "id": "lwD-o-Q6pA4y"
   },
   "source": [
    "LOOPS / ITERATOIN BLOCKS\n",
    "\n",
    "for, while"
   ]
  },
  {
   "cell_type": "code",
   "execution_count": 86,
   "metadata": {},
   "outputs": [],
   "source": [
    "#list(range(1000))"
   ]
  },
  {
   "cell_type": "code",
   "execution_count": 87,
   "metadata": {
    "id": "DUdnpcmkpKcM"
   },
   "outputs": [
    {
     "name": "stdout",
     "output_type": "stream",
     "text": [
      "I am fine\n",
      "I am fine\n",
      "I am fine\n",
      "I am fine\n"
     ]
    }
   ],
   "source": [
    "for i in range(1,5):\n",
    "    print('I am fine')"
   ]
  },
  {
   "cell_type": "code",
   "execution_count": 89,
   "metadata": {},
   "outputs": [
    {
     "data": {
      "text/plain": [
       "['1', '2', '3', '5']"
      ]
     },
     "execution_count": 89,
     "metadata": {},
     "output_type": "execute_result"
    }
   ],
   "source": [
    "c"
   ]
  },
  {
   "cell_type": "code",
   "execution_count": 97,
   "metadata": {},
   "outputs": [
    {
     "name": "stdout",
     "output_type": "stream",
     "text": [
      "1\n",
      "2\n",
      "3\n",
      "5\n",
      "loop finished\n",
      "SUM=11\n"
     ]
    }
   ],
   "source": [
    "sum = 0\n",
    "for e in c:\n",
    "    sum = sum + int(e)\n",
    "    print(e)\n",
    "print('loop finished')\n",
    "#print(f'sum={0}'.format(sum))\n",
    "print(f'SUM={sum}')"
   ]
  },
  {
   "cell_type": "code",
   "execution_count": 98,
   "metadata": {},
   "outputs": [],
   "source": [
    "a= [1,2,3,4.]"
   ]
  },
  {
   "cell_type": "code",
   "execution_count": 99,
   "metadata": {},
   "outputs": [
    {
     "data": {
      "text/plain": [
       "list"
      ]
     },
     "execution_count": 99,
     "metadata": {},
     "output_type": "execute_result"
    }
   ],
   "source": []
  },
  {
   "cell_type": "code",
   "execution_count": 107,
   "metadata": {},
   "outputs": [
    {
     "name": "stdout",
     "output_type": "stream",
     "text": [
      "1.3\n",
      "2012.22223\n",
      "3.9999\n",
      "5.0022\n",
      "loop finished\n",
      "SUM=2022.52\n"
     ]
    }
   ],
   "source": [
    "c = [1.3, 2012.22223, 3.9999, 5.0022]\n",
    "sum = 0\n",
    "for e in c:\n",
    "    sum = sum + e\n",
    "    print(e)\n",
    "print('loop finished')\n",
    "#print(f'sum={0}'.format(sum))\n",
    "print(f'SUM={sum:3.2f}')   # decimal point contol"
   ]
  },
  {
   "cell_type": "code",
   "execution_count": 142,
   "metadata": {},
   "outputs": [],
   "source": [
    "capitals = {'UK':'London', 'Pakistan':'Islamabad', 'UAE':'Abudhabi', 'KSA':'Riyad'}"
   ]
  },
  {
   "cell_type": "code",
   "execution_count": 143,
   "metadata": {},
   "outputs": [
    {
     "data": {
      "text/plain": [
       "dict_keys(['UK', 'Pakistan', 'UAE', 'KSA'])"
      ]
     },
     "execution_count": 143,
     "metadata": {},
     "output_type": "execute_result"
    }
   ],
   "source": [
    "capitals.keys()"
   ]
  },
  {
   "cell_type": "code",
   "execution_count": 144,
   "metadata": {},
   "outputs": [
    {
     "data": {
      "text/plain": [
       "dict_values(['London', 'Islamabad', 'Abudhabi', 'Riyad'])"
      ]
     },
     "execution_count": 144,
     "metadata": {},
     "output_type": "execute_result"
    }
   ],
   "source": [
    "capitals.values()"
   ]
  },
  {
   "cell_type": "code",
   "execution_count": 145,
   "metadata": {},
   "outputs": [
    {
     "name": "stdout",
     "output_type": "stream",
     "text": [
      "UK London\n",
      "Pakistan Islamabad\n",
      "UAE Abudhabi\n",
      "KSA Riyad\n"
     ]
    }
   ],
   "source": [
    "for k,v in capitals.items():\n",
    "    print(k,v)"
   ]
  },
  {
   "cell_type": "markdown",
   "metadata": {},
   "source": [
    "dict_keys(['UK', 'Pakistan', 'UAE', 'KSA'])"
   ]
  },
  {
   "cell_type": "code",
   "execution_count": 146,
   "metadata": {},
   "outputs": [
    {
     "name": "stdout",
     "output_type": "stream",
     "text": [
      "UK London\n",
      "Pakistan Islamabad\n",
      "UAE Abudhabi\n",
      "KSA Riyad\n"
     ]
    }
   ],
   "source": [
    "for i in capitals.keys():\n",
    "    v = capitals[i]     # redundant .. could have avoided \n",
    "    print(i,v)"
   ]
  },
  {
   "cell_type": "code",
   "execution_count": 147,
   "metadata": {},
   "outputs": [
    {
     "name": "stdout",
     "output_type": "stream",
     "text": [
      "{'London': 'UK', 'Islamabad': 'Pakistan', 'Abudhabi': 'UAE', 'Riyad': 'KSA'}\n"
     ]
    }
   ],
   "source": [
    "d1 = dict()   # ={}\n",
    "for k,v in capitals.items():\n",
    "    d1[v] = k\n",
    "\n",
    "print(d1)"
   ]
  },
  {
   "cell_type": "code",
   "execution_count": 148,
   "metadata": {},
   "outputs": [],
   "source": [
    "h = {'Farhan':'6.0', 'Muneeb':'6.1', 'Aqsa':'5.9', 'Dr.':'5.99'}"
   ]
  },
  {
   "cell_type": "code",
   "execution_count": 149,
   "metadata": {},
   "outputs": [
    {
     "data": {
      "text/plain": [
       "(dict_values(['6.0', '6.1', '5.9', '5.99']),\n",
       " dict_keys(['Farhan', 'Muneeb', 'Aqsa', 'Dr.']))"
      ]
     },
     "execution_count": 149,
     "metadata": {},
     "output_type": "execute_result"
    }
   ],
   "source": [
    "#print(h.keys())\n",
    "h.values(), h.keys()"
   ]
  },
  {
   "cell_type": "code",
   "execution_count": 150,
   "metadata": {},
   "outputs": [
    {
     "data": {
      "text/plain": [
       "'5.99'"
      ]
     },
     "execution_count": 150,
     "metadata": {},
     "output_type": "execute_result"
    }
   ],
   "source": [
    "h['Dr.']"
   ]
  },
  {
   "cell_type": "code",
   "execution_count": 151,
   "metadata": {},
   "outputs": [
    {
     "name": "stdout",
     "output_type": "stream",
     "text": [
      "{'6.0': 'Farhan', '6.1': 'Muneeb', '5.9': 'Aqsa', '5.99': 'Dr.'}\n"
     ]
    }
   ],
   "source": [
    "h_new = {}\n",
    "for k,v in h.items():\n",
    "    #if k=='Dr.' or v=='6.1':\n",
    "    h_new[v] = k\n",
    "\n",
    "print(h_new) "
   ]
  },
  {
   "cell_type": "code",
   "execution_count": 1,
   "metadata": {
    "tags": []
   },
   "outputs": [],
   "source": [
    "A = [1,2,3,4]\n",
    "B = [5,6,7,8]"
   ]
  },
  {
   "cell_type": "code",
   "execution_count": 2,
   "metadata": {
    "tags": []
   },
   "outputs": [],
   "source": [
    "A.extend(B)"
   ]
  },
  {
   "cell_type": "code",
   "execution_count": 3,
   "metadata": {
    "tags": []
   },
   "outputs": [
    {
     "data": {
      "text/plain": [
       "[1, 2, 3, 4, 5, 6, 7, 8]"
      ]
     },
     "execution_count": 3,
     "metadata": {},
     "output_type": "execute_result"
    }
   ],
   "source": [
    "A"
   ]
  },
  {
   "cell_type": "code",
   "execution_count": 6,
   "metadata": {
    "tags": []
   },
   "outputs": [],
   "source": [
    "C=[11,12,13]\n",
    "x = 14\n",
    "A.append(x)"
   ]
  },
  {
   "cell_type": "code",
   "execution_count": 7,
   "metadata": {
    "tags": []
   },
   "outputs": [
    {
     "data": {
      "text/plain": [
       "[1, 2, 3, 4, 5, 6, 7, 8, [11, 12, 13], 14]"
      ]
     },
     "execution_count": 7,
     "metadata": {},
     "output_type": "execute_result"
    }
   ],
   "source": [
    "A"
   ]
  },
  {
   "cell_type": "code",
   "execution_count": 8,
   "metadata": {
    "tags": []
   },
   "outputs": [],
   "source": [
    "A.remove([11, 12, 13])"
   ]
  },
  {
   "cell_type": "code",
   "execution_count": 9,
   "metadata": {
    "tags": []
   },
   "outputs": [
    {
     "data": {
      "text/plain": [
       "[1, 2, 3, 4, 5, 6, 7, 8, 14]"
      ]
     },
     "execution_count": 9,
     "metadata": {},
     "output_type": "execute_result"
    }
   ],
   "source": [
    "A"
   ]
  },
  {
   "cell_type": "code",
   "execution_count": 11,
   "metadata": {
    "tags": []
   },
   "outputs": [
    {
     "data": {
      "text/plain": [
       "[14, 8, 7, 6, 5, 4, 3, 2, 1]"
      ]
     },
     "execution_count": 11,
     "metadata": {},
     "output_type": "execute_result"
    }
   ],
   "source": [
    "sorted(A, reverse=True)"
   ]
  },
  {
   "cell_type": "markdown",
   "metadata": {},
   "source": [
    "# cryptography"
   ]
  },
  {
   "cell_type": "code",
   "execution_count": 68,
   "metadata": {
    "tags": []
   },
   "outputs": [],
   "source": [
    "text = 'This is PGD class Number 6, dated: 21.01.2024 and there is a sunshine outside'"
   ]
  },
  {
   "cell_type": "code",
   "execution_count": 69,
   "metadata": {
    "tags": []
   },
   "outputs": [],
   "source": [
    "text_list = list(text)"
   ]
  },
  {
   "cell_type": "code",
   "execution_count": 70,
   "metadata": {
    "tags": []
   },
   "outputs": [
    {
     "name": "stdout",
     "output_type": "stream",
     "text": [
      "['T', 'h', 'i', 's', ' ', 'i', 's', ' ', 'P', 'G', 'D', ' ', 'c', 'l', 'a', 's', 's', ' ', 'N', 'u', 'm', 'b', 'e', 'r', ' ', '6', ',', ' ', 'd', 'a', 't', 'e', 'd', ':', ' ', '2', '1', '.', '0', '1', '.', '2', '0', '2', '4', ' ', 'a', 'n', 'd', ' ', 't', 'h', 'e', 'r', 'e', ' ', 'i', 's', ' ', 'a', ' ', 's', 'u', 'n', 's', 'h', 'i', 'n', 'e', ' ', 'o', 'u', 't', 's', 'i', 'd', 'e']\n"
     ]
    }
   ],
   "source": [
    "print(text_list)"
   ]
  },
  {
   "cell_type": "code",
   "execution_count": 71,
   "metadata": {
    "tags": []
   },
   "outputs": [],
   "source": [
    "unique_letters = set(text_list)\n",
    "max_chars = len(unique_letters)\n",
    "codes = list(range(1,max_chars+1))"
   ]
  },
  {
   "cell_type": "code",
   "execution_count": 72,
   "metadata": {
    "tags": []
   },
   "outputs": [
    {
     "name": "stdout",
     "output_type": "stream",
     "text": [
      "{'D', '0', 'e', ',', 't', 'c', 'P', 'a', 'l', '2', ':', 'T', 'n', 'b', 's', 'm', 'N', 'h', '4', 'G', 'o', '1', 'r', 'u', 'i', '6', ' ', '.', 'd'}\n",
      "[1, 2, 3, 4, 5, 6, 7, 8, 9, 10, 11, 12, 13, 14, 15, 16, 17, 18, 19, 20, 21, 22, 23, 24, 25, 26, 27, 28, 29]\n"
     ]
    }
   ],
   "source": [
    "print(unique_letters)\n",
    "print(codes)"
   ]
  },
  {
   "cell_type": "code",
   "execution_count": 73,
   "metadata": {
    "tags": []
   },
   "outputs": [],
   "source": [
    "encode = dict(zip(unique_letters, codes))"
   ]
  },
  {
   "cell_type": "code",
   "execution_count": 74,
   "metadata": {
    "tags": []
   },
   "outputs": [
    {
     "name": "stdout",
     "output_type": "stream",
     "text": [
      "{'D': 1, '0': 2, 'e': 3, ',': 4, 't': 5, 'c': 6, 'P': 7, 'a': 8, 'l': 9, '2': 10, ':': 11, 'T': 12, 'n': 13, 'b': 14, 's': 15, 'm': 16, 'N': 17, 'h': 18, '4': 19, 'G': 20, 'o': 21, '1': 22, 'r': 23, 'u': 24, 'i': 25, '6': 26, ' ': 27, '.': 28, 'd': 29}\n"
     ]
    }
   ],
   "source": [
    "print(encode)"
   ]
  },
  {
   "cell_type": "code",
   "execution_count": 75,
   "metadata": {
    "tags": []
   },
   "outputs": [
    {
     "name": "stdout",
     "output_type": "stream",
     "text": [
      "[12, 18, 25, 15, 27, 25, 15, 27, 7, 20, 1, 27, 6, 9, 8, 15, 15, 27, 17, 24, 16, 14, 3, 23, 27, 26, 4, 27, 29, 8, 5, 3, 29, 11, 27, 10, 22, 28, 2, 22, 28, 10, 2, 10, 19, 27, 8, 13, 29, 27, 5, 18, 3, 23, 3, 27, 25, 15, 27, 8, 27, 15, 24, 13, 15, 18, 25, 13, 3, 27, 21, 24, 5, 15, 25, 29, 3]\n"
     ]
    }
   ],
   "source": [
    "encoded_output = []\n",
    "for char in text:\n",
    "    #print(char)\n",
    "    code = encode[char]\n",
    "    #print(char, code)\n",
    "    #codeC = chr(code)\n",
    "    encoded_output.append(code)\n",
    "\n",
    "print(encoded_output)"
   ]
  },
  {
   "cell_type": "code",
   "execution_count": 76,
   "metadata": {
    "tags": []
   },
   "outputs": [
    {
     "name": "stdout",
     "output_type": "stream",
     "text": [
      "{'D': 1, '0': 2, 'e': 3, ',': 4, 't': 5, 'c': 6, 'P': 7, 'a': 8, 'l': 9, '2': 10, ':': 11, 'T': 12, 'n': 13, 'b': 14, 's': 15, 'm': 16, 'N': 17, 'h': 18, '4': 19, 'G': 20, 'o': 21, '1': 22, 'r': 23, 'u': 24, 'i': 25, '6': 26, ' ': 27, '.': 28, 'd': 29}\n"
     ]
    }
   ],
   "source": [
    "print(encode)"
   ]
  },
  {
   "cell_type": "code",
   "execution_count": 77,
   "metadata": {
    "tags": []
   },
   "outputs": [
    {
     "name": "stdout",
     "output_type": "stream",
     "text": [
      "{1: 'D', 2: '0', 3: 'e', 4: ',', 5: 't', 6: 'c', 7: 'P', 8: 'a', 9: 'l', 10: '2', 11: ':', 12: 'T', 13: 'n', 14: 'b', 15: 's', 16: 'm', 17: 'N', 18: 'h', 19: '4', 20: 'G', 21: 'o', 22: '1', 23: 'r', 24: 'u', 25: 'i', 26: '6', 27: ' ', 28: '.', 29: 'd'}\n"
     ]
    }
   ],
   "source": [
    "decode = {}\n",
    "for k,v in encode.items():\n",
    "    decode[v] = k\n",
    "\n",
    "print(decode)"
   ]
  },
  {
   "cell_type": "code",
   "execution_count": 78,
   "metadata": {
    "tags": []
   },
   "outputs": [
    {
     "name": "stdout",
     "output_type": "stream",
     "text": [
      "['T', 'h', 'i', 's', ' ', 'i', 's', ' ', 'P', 'G', 'D', ' ', 'c', 'l', 'a', 's', 's', ' ', 'N', 'u', 'm', 'b', 'e', 'r', ' ', '6', ',', ' ', 'd', 'a', 't', 'e', 'd', ':', ' ', '2', '1', '.', '0', '1', '.', '2', '0', '2', '4', ' ', 'a', 'n', 'd', ' ', 't', 'h', 'e', 'r', 'e', ' ', 'i', 's', ' ', 'a', ' ', 's', 'u', 'n', 's', 'h', 'i', 'n', 'e', ' ', 'o', 'u', 't', 's', 'i', 'd', 'e']\n"
     ]
    }
   ],
   "source": [
    "decoded_output = []\n",
    "for i in encoded_output:\n",
    "    #print(i)\n",
    "    c = decode[i]\n",
    "    #print(c)\n",
    "    decoded_output.append(c)\n",
    "\n",
    "print(decoded_output)"
   ]
  },
  {
   "cell_type": "code",
   "execution_count": 83,
   "metadata": {
    "tags": []
   },
   "outputs": [
    {
     "name": "stdout",
     "output_type": "stream",
     "text": [
      "This is PGD class Number 6, dated: 21.01.2024 and there is a sunshine outside\n"
     ]
    }
   ],
   "source": [
    "decoded_text = ''.join(decoded_output)\n",
    "print(decoded_text)"
   ]
  },
  {
   "cell_type": "code",
   "execution_count": 84,
   "metadata": {
    "tags": []
   },
   "outputs": [],
   "source": [
    "assert (text==decoded_text)"
   ]
  },
  {
   "cell_type": "markdown",
   "metadata": {
    "id": "Jpouq2xOpQ2_"
   },
   "source": [
    "# FUNCTIONS"
   ]
  },
  {
   "cell_type": "code",
   "execution_count": 96,
   "metadata": {
    "tags": []
   },
   "outputs": [],
   "source": [
    "def add(A:int, B:int): #A, B are parameters\n",
    "    '''\n",
    "    This function adds 2 variables and returns summation of two.\n",
    "    \n",
    "    '''\n",
    "    c=A+B\n",
    "    #print(c)\n",
    "    return c"
   ]
  },
  {
   "cell_type": "code",
   "execution_count": 92,
   "metadata": {
    "executionInfo": {
     "elapsed": 8,
     "status": "ok",
     "timestamp": 1705734889942,
     "user": {
      "displayName": "TARIQ JAMIL",
      "userId": "15811585553781902842"
     },
     "user_tz": -300
    },
    "id": "hCH0FeNFpR_T",
    "tags": []
   },
   "outputs": [],
   "source": [
    "x = add(1,2)\n",
    "y = add(3,7)\n",
    "z = add(x,y)"
   ]
  },
  {
   "cell_type": "code",
   "execution_count": 111,
   "metadata": {
    "tags": []
   },
   "outputs": [
    {
     "data": {
      "text/plain": [
       "(3, 10, 13)"
      ]
     },
     "execution_count": 111,
     "metadata": {},
     "output_type": "execute_result"
    }
   ],
   "source": [
    "x,y,z"
   ]
  },
  {
   "cell_type": "code",
   "execution_count": 94,
   "metadata": {
    "tags": []
   },
   "outputs": [
    {
     "data": {
      "text/plain": [
       "'ZZYY'"
      ]
     },
     "execution_count": 94,
     "metadata": {},
     "output_type": "execute_result"
    }
   ],
   "source": [
    "add('ZZ', 'YY')"
   ]
  },
  {
   "cell_type": "markdown",
   "metadata": {
    "id": "kIHfMacRq4iH"
   },
   "source": [
    "Parameters and Arguments"
   ]
  },
  {
   "cell_type": "code",
   "execution_count": 106,
   "metadata": {
    "executionInfo": {
     "elapsed": 454,
     "status": "ok",
     "timestamp": 1705734884509,
     "user": {
      "displayName": "TARIQ JAMIL",
      "userId": "15811585553781902842"
     },
     "user_tz": -300
    },
    "id": "jfeXahJ9tc9P",
    "tags": []
   },
   "outputs": [],
   "source": [
    "def add1(d1, d2, d4, d3=5): #A, B are parameters\n",
    "    '''\n",
    "    This function adds 2 variables and returns summation of two.\n",
    "    \n",
    "    '''    \n",
    "    x=d1+d2+d3+d4\n",
    "    #print(c)\n",
    "    return x"
   ]
  },
  {
   "cell_type": "code",
   "execution_count": 109,
   "metadata": {
    "tags": []
   },
   "outputs": [
    {
     "data": {
      "text/plain": [
       "60"
      ]
     },
     "execution_count": 109,
     "metadata": {},
     "output_type": "execute_result"
    }
   ],
   "source": [
    "add1(10,3,7,40)"
   ]
  },
  {
   "cell_type": "markdown",
   "metadata": {},
   "source": [
    "## creating cypher and decypher functions"
   ]
  },
  {
   "cell_type": "code",
   "execution_count": 138,
   "metadata": {
    "tags": []
   },
   "outputs": [],
   "source": [
    "def cypher(text):\n",
    "    '''\n",
    "    This function encodes a text into a list of numbers\n",
    "    '''\n",
    "    \n",
    "    text_list = list(text)\n",
    "    unique_letters = set(text_list)\n",
    "    max_chars = len(unique_letters)\n",
    "    print(max_chars)\n",
    "    codes = list(range(1,max_chars+1))\n",
    "    encode = dict(zip(unique_letters, codes))\n",
    "    \n",
    "    encoded_output = []\n",
    "    print(text, len(text))\n",
    "    for char in text:\n",
    "        code = encode[char]\n",
    "        encoded_output.append(code)\n",
    "\n",
    "    # returns a list of encoded values\n",
    "    return encoded_output, encode\n",
    "    "
   ]
  },
  {
   "cell_type": "code",
   "execution_count": 140,
   "metadata": {
    "tags": []
   },
   "outputs": [
    {
     "name": "stdout",
     "output_type": "stream",
     "text": [
      "19\n",
      "i am 8 years old, I eat bread with cheese 41\n",
      "[17, 18, 7, 12, 18, 2, 18, 14, 3, 7, 16, 11, 18, 15, 8, 19, 4, 18, 1, 18, 3, 7, 5, 18, 10, 16, 3, 7, 19, 18, 9, 17, 5, 13, 18, 6, 13, 3, 3, 11, 3]\n",
      "{'I': 1, '8': 2, 'e': 3, ',': 4, 't': 5, 'c': 6, 'a': 7, 'l': 8, 'w': 9, 'b': 10, 's': 11, 'm': 12, 'h': 13, 'y': 14, 'o': 15, 'r': 16, 'i': 17, ' ': 18, 'd': 19}\n"
     ]
    }
   ],
   "source": [
    "c1, codes = cypher('i am 8 years old, I eat bread with cheese')\n",
    "print(c1)\n",
    "print(codes)"
   ]
  },
  {
   "cell_type": "code",
   "execution_count": 141,
   "metadata": {
    "tags": []
   },
   "outputs": [],
   "source": [
    "def decypher(cypher_list, encode):\n",
    "    '''\n",
    "    This function returns text from decypher list\n",
    "    '''\n",
    "    decode = {}\n",
    "    for k,v in encode.items():\n",
    "        decode[v] = k\n",
    "        \n",
    "    decoded_output = []\n",
    "    for i in encoded_output:\n",
    "        #print(i)\n",
    "        c = decode[i]\n",
    "        #print(c)\n",
    "        decoded_output.append(c)\n",
    "        \n",
    "    # decoded text\n",
    "    decoded_text = ''.join(decoded_output)\n",
    "    \n",
    "    return decoded_text    "
   ]
  },
  {
   "cell_type": "code",
   "execution_count": 142,
   "metadata": {
    "tags": []
   },
   "outputs": [
    {
     "ename": "KeyError",
     "evalue": "25",
     "output_type": "error",
     "traceback": [
      "\u001b[0;31m---------------------------------------------------------------------------\u001b[0m",
      "\u001b[0;31mKeyError\u001b[0m                                  Traceback (most recent call last)",
      "Cell \u001b[0;32mIn[142], line 1\u001b[0m\n\u001b[0;32m----> 1\u001b[0m t1 \u001b[38;5;241m=\u001b[39m decypher(c1, codes)\n",
      "Cell \u001b[0;32mIn[141], line 12\u001b[0m, in \u001b[0;36mdecypher\u001b[0;34m(cypher_list, encode)\u001b[0m\n\u001b[1;32m      9\u001b[0m decoded_output \u001b[38;5;241m=\u001b[39m []\n\u001b[1;32m     10\u001b[0m \u001b[38;5;28;01mfor\u001b[39;00m i \u001b[38;5;129;01min\u001b[39;00m encoded_output:\n\u001b[1;32m     11\u001b[0m     \u001b[38;5;66;03m#print(i)\u001b[39;00m\n\u001b[0;32m---> 12\u001b[0m     c \u001b[38;5;241m=\u001b[39m decode[i]\n\u001b[1;32m     13\u001b[0m     \u001b[38;5;66;03m#print(c)\u001b[39;00m\n\u001b[1;32m     14\u001b[0m     decoded_output\u001b[38;5;241m.\u001b[39mappend(c)\n",
      "\u001b[0;31mKeyError\u001b[0m: 25"
     ]
    }
   ],
   "source": [
    "t1 = decypher(c1, codes)"
   ]
  },
  {
   "cell_type": "code",
   "execution_count": 123,
   "metadata": {
    "tags": []
   },
   "outputs": [
    {
     "data": {
      "text/plain": [
       "'This is PGD class Number 6, dated: 21.01.2024 and there is a sunshine outside'"
      ]
     },
     "execution_count": 123,
     "metadata": {},
     "output_type": "execute_result"
    }
   ],
   "source": [
    "t1"
   ]
  },
  {
   "cell_type": "code",
   "execution_count": null,
   "metadata": {},
   "outputs": [],
   "source": []
  },
  {
   "cell_type": "markdown",
   "metadata": {
    "id": "T1P2EVJvuPW6"
   },
   "source": [
    "Package Managers and Importing Packages"
   ]
  },
  {
   "cell_type": "code",
   "execution_count": null,
   "metadata": {
    "id": "tNuluoM4tgJp"
   },
   "outputs": [],
   "source": []
  },
  {
   "cell_type": "markdown",
   "metadata": {
    "id": "ov58RY5Dxynr"
   },
   "source": [
    "Modulus Operator, exponent operator"
   ]
  },
  {
   "cell_type": "code",
   "execution_count": null,
   "metadata": {
    "id": "C_-hAjPBxxrc"
   },
   "outputs": [],
   "source": []
  },
  {
   "cell_type": "markdown",
   "metadata": {
    "id": "oHK3xoCpxvxI"
   },
   "source": [
    "Operator Precedence"
   ]
  },
  {
   "cell_type": "code",
   "execution_count": null,
   "metadata": {
    "id": "D1aTQFHsx0rc"
   },
   "outputs": [],
   "source": []
  }
 ],
 "metadata": {
  "colab": {
   "authorship_tag": "ABX9TyNSPhM37g4/5taYbEzsktXL",
   "provenance": []
  },
  "kernelspec": {
   "display_name": "Python 3 (ipykernel)",
   "language": "python",
   "name": "python3"
  },
  "language_info": {
   "codemirror_mode": {
    "name": "ipython",
    "version": 3
   },
   "file_extension": ".py",
   "mimetype": "text/x-python",
   "name": "python",
   "nbconvert_exporter": "python",
   "pygments_lexer": "ipython3",
   "version": "3.11.5"
  }
 },
 "nbformat": 4,
 "nbformat_minor": 4
}
